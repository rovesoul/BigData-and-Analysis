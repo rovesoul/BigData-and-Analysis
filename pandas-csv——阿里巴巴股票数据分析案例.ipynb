{
 "cells": [
  {
   "cell_type": "markdown",
   "metadata": {},
   "source": [
    "# 阿里股价案例"
   ]
  },
  {
   "cell_type": "code",
   "execution_count": 1,
   "metadata": {},
   "outputs": [],
   "source": [
    "import numpy as np\n",
    "import pandas as pd"
   ]
  },
  {
   "cell_type": "markdown",
   "metadata": {},
   "source": [
    "## 读取csv文档\n",
    "csv文档头：date日期,close关闭价格,volume,open开盘价,high最高,low最低\n",
    "\n",
    "用data作为索引"
   ]
  },
  {
   "cell_type": "code",
   "execution_count": 34,
   "metadata": {},
   "outputs": [
    {
     "data": {
      "text/html": [
       "<div>\n",
       "<style scoped>\n",
       "    .dataframe tbody tr th:only-of-type {\n",
       "        vertical-align: middle;\n",
       "    }\n",
       "\n",
       "    .dataframe tbody tr th {\n",
       "        vertical-align: top;\n",
       "    }\n",
       "\n",
       "    .dataframe thead th {\n",
       "        text-align: right;\n",
       "    }\n",
       "</style>\n",
       "<table border=\"1\" class=\"dataframe\">\n",
       "  <thead>\n",
       "    <tr style=\"text-align: right;\">\n",
       "      <th></th>\n",
       "      <th>close</th>\n",
       "    </tr>\n",
       "    <tr>\n",
       "      <th>date</th>\n",
       "      <th></th>\n",
       "    </tr>\n",
       "  </thead>\n",
       "  <tbody>\n",
       "    <tr>\n",
       "      <td>'2019/04/15'</td>\n",
       "      <td>183.07</td>\n",
       "    </tr>\n",
       "    <tr>\n",
       "      <td>'2019/04/12'</td>\n",
       "      <td>188.91</td>\n",
       "    </tr>\n",
       "    <tr>\n",
       "      <td>'2019/04/11'</td>\n",
       "      <td>184.98</td>\n",
       "    </tr>\n",
       "    <tr>\n",
       "      <td>'2019/04/10'</td>\n",
       "      <td>186.19</td>\n",
       "    </tr>\n",
       "    <tr>\n",
       "      <td>'2019/04/09'</td>\n",
       "      <td>187.19</td>\n",
       "    </tr>\n",
       "  </tbody>\n",
       "</table>\n",
       "</div>"
      ],
      "text/plain": [
       "               close\n",
       "date                \n",
       "'2019/04/15'  183.07\n",
       "'2019/04/12'  188.91\n",
       "'2019/04/11'  184.98\n",
       "'2019/04/10'  186.19\n",
       "'2019/04/09'  187.19"
      ]
     },
     "execution_count": 34,
     "metadata": {},
     "output_type": "execute_result"
    }
   ],
   "source": [
    "#最后一个字段是读取第一列、第二列意思\n",
    "df = pd.read_csv('BABA_stock.csv', index_col='date', usecols=[0,1])  \n",
    "df.head()"
   ]
  },
  {
   "cell_type": "code",
   "execution_count": 35,
   "metadata": {},
   "outputs": [
    {
     "data": {
      "text/html": [
       "<div>\n",
       "<style scoped>\n",
       "    .dataframe tbody tr th:only-of-type {\n",
       "        vertical-align: middle;\n",
       "    }\n",
       "\n",
       "    .dataframe tbody tr th {\n",
       "        vertical-align: top;\n",
       "    }\n",
       "\n",
       "    .dataframe thead th {\n",
       "        text-align: right;\n",
       "    }\n",
       "</style>\n",
       "<table border=\"1\" class=\"dataframe\">\n",
       "  <thead>\n",
       "    <tr style=\"text-align: right;\">\n",
       "      <th></th>\n",
       "      <th>close</th>\n",
       "    </tr>\n",
       "  </thead>\n",
       "  <tbody>\n",
       "    <tr>\n",
       "      <td>count</td>\n",
       "      <td>755.000000</td>\n",
       "    </tr>\n",
       "    <tr>\n",
       "      <td>mean</td>\n",
       "      <td>143.366954</td>\n",
       "    </tr>\n",
       "    <tr>\n",
       "      <td>std</td>\n",
       "      <td>40.345464</td>\n",
       "    </tr>\n",
       "    <tr>\n",
       "      <td>min</td>\n",
       "      <td>74.230000</td>\n",
       "    </tr>\n",
       "    <tr>\n",
       "      <td>25%</td>\n",
       "      <td>102.925000</td>\n",
       "    </tr>\n",
       "    <tr>\n",
       "      <td>50%</td>\n",
       "      <td>152.110000</td>\n",
       "    </tr>\n",
       "    <tr>\n",
       "      <td>75%</td>\n",
       "      <td>179.155000</td>\n",
       "    </tr>\n",
       "    <tr>\n",
       "      <td>max</td>\n",
       "      <td>210.860000</td>\n",
       "    </tr>\n",
       "  </tbody>\n",
       "</table>\n",
       "</div>"
      ],
      "text/plain": [
       "            close\n",
       "count  755.000000\n",
       "mean   143.366954\n",
       "std     40.345464\n",
       "min     74.230000\n",
       "25%    102.925000\n",
       "50%    152.110000\n",
       "75%    179.155000\n",
       "max    210.860000"
      ]
     },
     "execution_count": 35,
     "metadata": {},
     "output_type": "execute_result"
    }
   ],
   "source": [
    "df.describe()"
   ]
  },
  {
   "cell_type": "markdown",
   "metadata": {},
   "source": [
    "## 把字符串日期转化为pandas的日期格式\n",
    "注意：只是把index给改了，别的还是原始的"
   ]
  },
  {
   "cell_type": "code",
   "execution_count": 36,
   "metadata": {},
   "outputs": [],
   "source": [
    "df.index = pd.DatetimeIndex(df.index.str.strip(\"'\"))"
   ]
  },
  {
   "cell_type": "code",
   "execution_count": 37,
   "metadata": {},
   "outputs": [
    {
     "data": {
      "text/plain": [
       "DatetimeIndex(['2019-04-15', '2019-04-12', '2019-04-11', '2019-04-10',\n",
       "               '2019-04-09', '2019-04-08', '2019-04-05', '2019-04-04',\n",
       "               '2019-04-03', '2019-04-02',\n",
       "               ...\n",
       "               '2016-04-28', '2016-04-27', '2016-04-26', '2016-04-25',\n",
       "               '2016-04-22', '2016-04-21', '2016-04-20', '2016-04-19',\n",
       "               '2016-04-18', '2016-04-15'],\n",
       "              dtype='datetime64[ns]', name='date', length=755, freq=None)"
      ]
     },
     "execution_count": 37,
     "metadata": {},
     "output_type": "execute_result"
    }
   ],
   "source": [
    "df.index"
   ]
  },
  {
   "cell_type": "code",
   "execution_count": 38,
   "metadata": {},
   "outputs": [],
   "source": [
    "df.sort_index(inplace=True)"
   ]
  },
  {
   "cell_type": "code",
   "execution_count": 39,
   "metadata": {},
   "outputs": [
    {
     "data": {
      "text/html": [
       "<div>\n",
       "<style scoped>\n",
       "    .dataframe tbody tr th:only-of-type {\n",
       "        vertical-align: middle;\n",
       "    }\n",
       "\n",
       "    .dataframe tbody tr th {\n",
       "        vertical-align: top;\n",
       "    }\n",
       "\n",
       "    .dataframe thead th {\n",
       "        text-align: right;\n",
       "    }\n",
       "</style>\n",
       "<table border=\"1\" class=\"dataframe\">\n",
       "  <thead>\n",
       "    <tr style=\"text-align: right;\">\n",
       "      <th></th>\n",
       "      <th>close</th>\n",
       "    </tr>\n",
       "    <tr>\n",
       "      <th>date</th>\n",
       "      <th></th>\n",
       "    </tr>\n",
       "  </thead>\n",
       "  <tbody>\n",
       "    <tr>\n",
       "      <td>2016-04-15</td>\n",
       "      <td>78.97</td>\n",
       "    </tr>\n",
       "    <tr>\n",
       "      <td>2016-04-18</td>\n",
       "      <td>79.01</td>\n",
       "    </tr>\n",
       "    <tr>\n",
       "      <td>2016-04-19</td>\n",
       "      <td>79.46</td>\n",
       "    </tr>\n",
       "    <tr>\n",
       "      <td>2016-04-20</td>\n",
       "      <td>81.21</td>\n",
       "    </tr>\n",
       "    <tr>\n",
       "      <td>2016-04-21</td>\n",
       "      <td>80.78</td>\n",
       "    </tr>\n",
       "  </tbody>\n",
       "</table>\n",
       "</div>"
      ],
      "text/plain": [
       "            close\n",
       "date             \n",
       "2016-04-15  78.97\n",
       "2016-04-18  79.01\n",
       "2016-04-19  79.46\n",
       "2016-04-20  81.21\n",
       "2016-04-21  80.78"
      ]
     },
     "execution_count": 39,
     "metadata": {},
     "output_type": "execute_result"
    }
   ],
   "source": [
    "df.head()"
   ]
  },
  {
   "cell_type": "markdown",
   "metadata": {},
   "source": [
    "## day10 均线求法"
   ]
  },
  {
   "cell_type": "code",
   "execution_count": 50,
   "metadata": {},
   "outputs": [
    {
     "data": {
      "text/html": [
       "<div>\n",
       "<style scoped>\n",
       "    .dataframe tbody tr th:only-of-type {\n",
       "        vertical-align: middle;\n",
       "    }\n",
       "\n",
       "    .dataframe tbody tr th {\n",
       "        vertical-align: top;\n",
       "    }\n",
       "\n",
       "    .dataframe thead th {\n",
       "        text-align: right;\n",
       "    }\n",
       "</style>\n",
       "<table border=\"1\" class=\"dataframe\">\n",
       "  <thead>\n",
       "    <tr style=\"text-align: right;\">\n",
       "      <th></th>\n",
       "      <th>close</th>\n",
       "    </tr>\n",
       "    <tr>\n",
       "      <th>date</th>\n",
       "      <th></th>\n",
       "    </tr>\n",
       "  </thead>\n",
       "  <tbody>\n",
       "    <tr>\n",
       "      <td>2016-04-28</td>\n",
       "      <td>79.082</td>\n",
       "    </tr>\n",
       "    <tr>\n",
       "      <td>2016-04-29</td>\n",
       "      <td>78.879</td>\n",
       "    </tr>\n",
       "    <tr>\n",
       "      <td>2016-05-02</td>\n",
       "      <td>78.639</td>\n",
       "    </tr>\n",
       "    <tr>\n",
       "      <td>2016-05-03</td>\n",
       "      <td>78.284</td>\n",
       "    </tr>\n",
       "    <tr>\n",
       "      <td>2016-05-04</td>\n",
       "      <td>77.745</td>\n",
       "    </tr>\n",
       "  </tbody>\n",
       "</table>\n",
       "</div>"
      ],
      "text/plain": [
       "             close\n",
       "date              \n",
       "2016-04-28  79.082\n",
       "2016-04-29  78.879\n",
       "2016-05-02  78.639\n",
       "2016-05-03  78.284\n",
       "2016-05-04  77.745"
      ]
     },
     "execution_count": 50,
     "metadata": {},
     "output_type": "execute_result"
    }
   ],
   "source": [
    "#.dropna() 是把控制扔掉\n",
    "# 取的是close价格那列\n",
    "ma10 = df.rolling(10).mean().dropna()\n",
    "ma10.head()"
   ]
  },
  {
   "cell_type": "markdown",
   "metadata": {},
   "source": [
    "## 判断大小"
   ]
  },
  {
   "cell_type": "code",
   "execution_count": 55,
   "metadata": {},
   "outputs": [
    {
     "data": {
      "text/plain": [
       "<bound method NDFrame.head of date\n",
       "2016-04-15    False\n",
       "2016-04-18    False\n",
       "2016-04-19    False\n",
       "2016-04-20    False\n",
       "2016-04-21    False\n",
       "              ...  \n",
       "2019-04-09     True\n",
       "2019-04-10     True\n",
       "2019-04-11     True\n",
       "2019-04-12     True\n",
       "2019-04-15    False\n",
       "Name: close, Length: 755, dtype: bool>"
      ]
     },
     "execution_count": 55,
     "metadata": {},
     "output_type": "execute_result"
    }
   ],
   "source": [
    "model = df['close'] - ma10['close'] > 0\n",
    "model.head"
   ]
  },
  {
   "cell_type": "markdown",
   "metadata": {},
   "source": [
    "## 自动以方法，找到拐点"
   ]
  },
  {
   "cell_type": "code",
   "execution_count": 56,
   "metadata": {},
   "outputs": [],
   "source": [
    "# 定义函数方法1——仅判断买点\n",
    "def get_deal_date(w):\n",
    "    if w[0]==False and w[1]==True:\n",
    "        return True\n",
    "    else:\n",
    "        return False"
   ]
  },
  {
   "cell_type": "code",
   "execution_count": 57,
   "metadata": {},
   "outputs": [],
   "source": [
    "# 定义函数方法2——买点、卖点都融合，注意下边的写法——三目运算符\n",
    "def get_deal_date(w, is_buy=True):\n",
    "    if is_buy == True:\n",
    "        return True if w[0] == False and w[1] == True else False\n",
    "    else:\n",
    "        return True if w[0] == True and w[1] == False else False"
   ]
  },
  {
   "cell_type": "markdown",
   "metadata": {},
   "source": [
    "## 对model使用方法"
   ]
  },
  {
   "cell_type": "code",
   "execution_count": 73,
   "metadata": {},
   "outputs": [
    {
     "data": {
      "text/plain": [
       "date\n",
       "2016-04-18    False\n",
       "2016-04-19    False\n",
       "2016-04-20    False\n",
       "2016-04-21    False\n",
       "2016-04-22    False\n",
       "              ...  \n",
       "2019-04-09    False\n",
       "2019-04-10    False\n",
       "2019-04-11    False\n",
       "2019-04-12    False\n",
       "2019-04-15    False\n",
       "Name: close, Length: 754, dtype: bool"
      ]
     },
     "execution_count": 73,
     "metadata": {},
     "output_type": "execute_result"
    }
   ],
   "source": [
    "# 这行代码是测试行——最后是转化成bool\n",
    "model.rolling(2).apply(get_deal_date,raw=False).dropna().astype('bool')"
   ]
  },
  {
   "cell_type": "code",
   "execution_count": 74,
   "metadata": {},
   "outputs": [],
   "source": [
    "# 这行是真正使用的\n",
    "se_buy = model.rolling(2).apply(get_deal_date, raw=False).fillna(0).astype('bool')\n",
    "se_sell = model.rolling(2).apply(get_deal_date, raw=False, args=[False]).fillna(0).astype('bool')"
   ]
  },
  {
   "cell_type": "code",
   "execution_count": 70,
   "metadata": {},
   "outputs": [
    {
     "data": {
      "text/plain": [
       "date\n",
       "2016-04-15    False\n",
       "2016-04-18    False\n",
       "2016-04-19    False\n",
       "2016-04-20    False\n",
       "2016-04-21    False\n",
       "2016-04-22    False\n",
       "2016-04-25    False\n",
       "2016-04-26    False\n",
       "2016-04-27    False\n",
       "2016-04-28    False\n",
       "2016-04-29    False\n",
       "2016-05-02    False\n",
       "2016-05-03    False\n",
       "2016-05-04    False\n",
       "2016-05-05    False\n",
       "2016-05-06    False\n",
       "2016-05-09    False\n",
       "2016-05-10    False\n",
       "2016-05-11    False\n",
       "2016-05-12    False\n",
       "2016-05-13     True\n",
       "2016-05-16    False\n",
       "2016-05-17    False\n",
       "2016-05-18     True\n",
       "2016-05-19    False\n",
       "2016-05-20    False\n",
       "2016-05-23    False\n",
       "2016-05-24    False\n",
       "2016-05-25     True\n",
       "2016-05-26    False\n",
       "Name: close, dtype: bool"
      ]
     },
     "execution_count": 70,
     "metadata": {},
     "output_type": "execute_result"
    }
   ],
   "source": [
    "se_sell.head(30)"
   ]
  },
  {
   "cell_type": "markdown",
   "metadata": {},
   "source": [
    "## 索引到买卖价格"
   ]
  },
  {
   "cell_type": "code",
   "execution_count": 75,
   "metadata": {},
   "outputs": [
    {
     "name": "stdout",
     "output_type": "stream",
     "text": [
      "             close\n",
      "date              \n",
      "2016-05-05   78.83\n",
      "2016-05-16   79.29\n",
      "2016-05-23   79.00\n",
      "2016-05-27   80.97\n",
      "2016-06-14   77.77\n",
      "...            ...\n",
      "2019-01-24  155.86\n",
      "2019-02-19  170.18\n",
      "2019-03-18  181.83\n",
      "2019-03-29  182.45\n",
      "2019-04-04  181.07\n",
      "\n",
      "[63 rows x 1 columns]\n",
      "             close\n",
      "date              \n",
      "2016-05-13   77.16\n",
      "2016-05-18   79.03\n",
      "2016-05-25   75.59\n",
      "2016-06-01   76.69\n",
      "2016-06-17   77.00\n",
      "...            ...\n",
      "2019-02-14  168.38\n",
      "2019-03-07  177.32\n",
      "2019-03-22  176.26\n",
      "2019-04-03  178.32\n",
      "2019-04-15  183.07\n",
      "\n",
      "[63 rows x 1 columns]\n"
     ]
    }
   ],
   "source": [
    "buy_info = df[se_buy.values]\n",
    "sell_info = df[se_sell.values]\n",
    "print(buy_info)\n",
    "print(sell_info)"
   ]
  },
  {
   "cell_type": "markdown",
   "metadata": {},
   "source": [
    "因为带日期没办法直接加减，因此改变一下索引方法"
   ]
  },
  {
   "cell_type": "code",
   "execution_count": 78,
   "metadata": {},
   "outputs": [
    {
     "name": "stdout",
     "output_type": "stream",
     "text": [
      "     close\n",
      "0    78.83\n",
      "1    79.29\n",
      "2    79.00\n",
      "3    80.97\n",
      "4    77.77\n",
      "..     ...\n",
      "58  155.86\n",
      "59  170.18\n",
      "60  181.83\n",
      "61  182.45\n",
      "62  181.07\n",
      "\n",
      "[63 rows x 1 columns]\n",
      "     close\n",
      "0    77.16\n",
      "1    79.03\n",
      "2    75.59\n",
      "3    76.69\n",
      "4    77.00\n",
      "..     ...\n",
      "58  168.38\n",
      "59  177.32\n",
      "60  176.26\n",
      "61  178.32\n",
      "62  183.07\n",
      "\n",
      "[63 rows x 1 columns]\n"
     ]
    }
   ],
   "source": [
    "no_index_buy_info = buy_info.reset_index(drop=True)\n",
    "no_index_sell_info = sell_info.reset_index(drop=True)\n",
    "print(no_index_buy_info)\n",
    "print(no_index_sell_info)"
   ]
  },
  {
   "cell_type": "markdown",
   "metadata": {},
   "source": [
    "## 计算每次交易利润\n",
    "按照每次买卖1股来计算的"
   ]
  },
  {
   "cell_type": "code",
   "execution_count": 79,
   "metadata": {},
   "outputs": [
    {
     "data": {
      "text/html": [
       "<div>\n",
       "<style scoped>\n",
       "    .dataframe tbody tr th:only-of-type {\n",
       "        vertical-align: middle;\n",
       "    }\n",
       "\n",
       "    .dataframe tbody tr th {\n",
       "        vertical-align: top;\n",
       "    }\n",
       "\n",
       "    .dataframe thead th {\n",
       "        text-align: right;\n",
       "    }\n",
       "</style>\n",
       "<table border=\"1\" class=\"dataframe\">\n",
       "  <thead>\n",
       "    <tr style=\"text-align: right;\">\n",
       "      <th></th>\n",
       "      <th>close</th>\n",
       "    </tr>\n",
       "  </thead>\n",
       "  <tbody>\n",
       "    <tr>\n",
       "      <td>count</td>\n",
       "      <td>63.000000</td>\n",
       "    </tr>\n",
       "    <tr>\n",
       "      <td>mean</td>\n",
       "      <td>0.572540</td>\n",
       "    </tr>\n",
       "    <tr>\n",
       "      <td>std</td>\n",
       "      <td>6.419356</td>\n",
       "    </tr>\n",
       "    <tr>\n",
       "      <td>min</td>\n",
       "      <td>-9.190000</td>\n",
       "    </tr>\n",
       "    <tr>\n",
       "      <td>25%</td>\n",
       "      <td>-3.380000</td>\n",
       "    </tr>\n",
       "    <tr>\n",
       "      <td>50%</td>\n",
       "      <td>-1.120000</td>\n",
       "    </tr>\n",
       "    <tr>\n",
       "      <td>75%</td>\n",
       "      <td>3.435000</td>\n",
       "    </tr>\n",
       "    <tr>\n",
       "      <td>max</td>\n",
       "      <td>17.840000</td>\n",
       "    </tr>\n",
       "  </tbody>\n",
       "</table>\n",
       "</div>"
      ],
      "text/plain": [
       "           close\n",
       "count  63.000000\n",
       "mean    0.572540\n",
       "std     6.419356\n",
       "min    -9.190000\n",
       "25%    -3.380000\n",
       "50%    -1.120000\n",
       "75%     3.435000\n",
       "max    17.840000"
      ]
     },
     "execution_count": 79,
     "metadata": {},
     "output_type": "execute_result"
    }
   ],
   "source": [
    "profit = no_index_sell_info - no_index_buy_info\n",
    "profit.describe()"
   ]
  },
  {
   "cell_type": "code",
   "execution_count": 80,
   "metadata": {},
   "outputs": [
    {
     "data": {
      "text/plain": [
       "close    36.07\n",
       "dtype: float64"
      ]
     },
     "execution_count": 80,
     "metadata": {},
     "output_type": "execute_result"
    }
   ],
   "source": [
    "profit.sum()  # 3年交易63次（上表），赚了36"
   ]
  },
  {
   "cell_type": "markdown",
   "metadata": {},
   "source": [
    "## 计算有1W用于交易能赚多少钱"
   ]
  },
  {
   "cell_type": "code",
   "execution_count": 85,
   "metadata": {},
   "outputs": [
    {
     "name": "stdout",
     "output_type": "stream",
     "text": [
      "close    9783.257643\n",
      "Name: 0, dtype: float64\n",
      "close    9746.301754\n",
      "dtype: float64\n",
      "close    9320.944154\n",
      "dtype: float64\n",
      "close    8823.833463\n",
      "dtype: float64\n",
      "close    8732.100541\n",
      "dtype: float64\n",
      "close    8520.01106\n",
      "dtype: float64\n",
      "close    9067.899957\n",
      "dtype: float64\n",
      "close    10088.555854\n",
      "dtype: float64\n",
      "close    10655.960931\n",
      "dtype: float64\n",
      "close    10605.417999\n",
      "dtype: float64\n",
      "close    10504.975886\n",
      "dtype: float64\n",
      "close    10191.734094\n",
      "dtype: float64\n",
      "close    10072.952444\n",
      "dtype: float64\n",
      "close    9706.071546\n",
      "dtype: float64\n",
      "close    9583.513335\n",
      "dtype: float64\n",
      "close    10902.012235\n",
      "dtype: float64\n",
      "close    10688.246164\n",
      "dtype: float64\n",
      "close    10702.778181\n",
      "dtype: float64\n",
      "close    11143.066544\n",
      "dtype: float64\n",
      "close    12513.970447\n",
      "dtype: float64\n",
      "close    14206.752702\n",
      "dtype: float64\n",
      "close    13937.94529\n",
      "dtype: float64\n",
      "close    14858.208329\n",
      "dtype: float64\n",
      "close    14189.768087\n",
      "dtype: float64\n",
      "close    15438.483281\n",
      "dtype: float64\n",
      "close    15411.841643\n",
      "dtype: float64\n",
      "close    15008.545198\n",
      "dtype: float64\n",
      "close    14991.799692\n",
      "dtype: float64\n",
      "close    15698.004098\n",
      "dtype: float64\n",
      "close    15664.770603\n",
      "dtype: float64\n",
      "close    15547.83934\n",
      "dtype: float64\n",
      "close    15279.343683\n",
      "dtype: float64\n",
      "close    14863.235473\n",
      "dtype: float64\n",
      "close    14602.44512\n",
      "dtype: float64\n",
      "close    14495.803141\n",
      "dtype: float64\n",
      "close    14484.034159\n",
      "dtype: float64\n",
      "close    14428.732541\n",
      "dtype: float64\n",
      "close    14212.164866\n",
      "dtype: float64\n",
      "close    13799.199961\n",
      "dtype: float64\n",
      "close    13860.985543\n",
      "dtype: float64\n",
      "close    15249.157455\n",
      "dtype: float64\n",
      "close    15105.034631\n",
      "dtype: float64\n",
      "close    15682.816405\n",
      "dtype: float64\n",
      "close    15279.574629\n",
      "dtype: float64\n",
      "close    15044.666737\n",
      "dtype: float64\n",
      "close    14386.988044\n",
      "dtype: float64\n",
      "close    14048.624512\n",
      "dtype: float64\n",
      "close    13571.344561\n",
      "dtype: float64\n",
      "close    13020.435944\n",
      "dtype: float64\n",
      "close    12963.512068\n",
      "dtype: float64\n",
      "close    12300.51768\n",
      "dtype: float64\n",
      "close    11535.058035\n",
      "dtype: float64\n",
      "close    11737.543786\n",
      "dtype: float64\n",
      "close    11651.856841\n",
      "dtype: float64\n",
      "close    12146.449348\n",
      "dtype: float64\n",
      "close    11964.061796\n",
      "dtype: float64\n",
      "close    11424.471232\n",
      "dtype: float64\n",
      "close    12431.944052\n",
      "dtype: float64\n",
      "close    13423.868177\n",
      "dtype: float64\n",
      "close    13980.080768\n",
      "dtype: float64\n",
      "close    13545.052915\n",
      "dtype: float64\n",
      "close    13231.823288\n",
      "dtype: float64\n",
      "close    13371.28577\n",
      "dtype: float64\n",
      "close    44.570953\n",
      "dtype: float64\n"
     ]
    }
   ],
   "source": [
    "all_money = 10000\n",
    "remain = all_money\n",
    "fee = 0.0005   #交易费百分比\n",
    "for i in range(len(no_index_buy_info)):\n",
    "    buy_count = remain / no_index_buy_info.iloc[i]\n",
    "    remain = no_index_sell_info.iloc[i] * (1 - fee) * buy_count\n",
    "    print(remain)\n",
    "\n",
    "print(remain/all_money*100/3)"
   ]
  },
  {
   "cell_type": "markdown",
   "metadata": {},
   "source": [
    "# 这个策略只是一个分析手段，并不能真金白银去投资"
   ]
  },
  {
   "cell_type": "code",
   "execution_count": null,
   "metadata": {},
   "outputs": [],
   "source": []
  }
 ],
 "metadata": {
  "kernelspec": {
   "display_name": "Python 3",
   "language": "python",
   "name": "python3"
  },
  "language_info": {
   "codemirror_mode": {
    "name": "ipython",
    "version": 3
   },
   "file_extension": ".py",
   "mimetype": "text/x-python",
   "name": "python",
   "nbconvert_exporter": "python",
   "pygments_lexer": "ipython3",
   "version": "3.7.4"
  },
  "toc": {
   "base_numbering": 1,
   "nav_menu": {},
   "number_sections": true,
   "sideBar": true,
   "skip_h1_title": false,
   "title_cell": "Table of Contents",
   "title_sidebar": "Contents",
   "toc_cell": false,
   "toc_position": {},
   "toc_section_display": true,
   "toc_window_display": true
  }
 },
 "nbformat": 4,
 "nbformat_minor": 2
}
