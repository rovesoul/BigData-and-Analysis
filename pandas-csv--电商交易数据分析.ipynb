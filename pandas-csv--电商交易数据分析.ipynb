{
 "cells": [
  {
   "cell_type": "markdown",
   "metadata": {},
   "source": [
    "## 导入数据和看头部及看描述"
   ]
  },
  {
   "cell_type": "code",
   "execution_count": 1,
   "metadata": {},
   "outputs": [],
   "source": [
    "import numpy as np\n",
    "import pandas as pd"
   ]
  },
  {
   "cell_type": "code",
   "execution_count": 2,
   "metadata": {},
   "outputs": [
    {
     "data": {
      "text/html": [
       "<div>\n",
       "<style scoped>\n",
       "    .dataframe tbody tr th:only-of-type {\n",
       "        vertical-align: middle;\n",
       "    }\n",
       "\n",
       "    .dataframe tbody tr th {\n",
       "        vertical-align: top;\n",
       "    }\n",
       "\n",
       "    .dataframe thead th {\n",
       "        text-align: right;\n",
       "    }\n",
       "</style>\n",
       "<table border=\"1\" class=\"dataframe\">\n",
       "  <thead>\n",
       "    <tr style=\"text-align: right;\">\n",
       "      <th></th>\n",
       "      <th>orderId</th>\n",
       "      <th>userId</th>\n",
       "      <th>productId</th>\n",
       "      <th>cityId</th>\n",
       "      <th>price</th>\n",
       "      <th>payMoney</th>\n",
       "      <th>channelId</th>\n",
       "      <th>deviceType</th>\n",
       "      <th>createTime</th>\n",
       "      <th>payTime</th>\n",
       "    </tr>\n",
       "    <tr>\n",
       "      <th>id</th>\n",
       "      <th></th>\n",
       "      <th></th>\n",
       "      <th></th>\n",
       "      <th></th>\n",
       "      <th></th>\n",
       "      <th></th>\n",
       "      <th></th>\n",
       "      <th></th>\n",
       "      <th></th>\n",
       "      <th></th>\n",
       "    </tr>\n",
       "  </thead>\n",
       "  <tbody>\n",
       "    <tr>\n",
       "      <td>1</td>\n",
       "      <td>232148841</td>\n",
       "      <td>2794924</td>\n",
       "      <td>268</td>\n",
       "      <td>110001</td>\n",
       "      <td>35300</td>\n",
       "      <td>35300</td>\n",
       "      <td>9058255c90</td>\n",
       "      <td>3</td>\n",
       "      <td>2016-01-01 12:53:02</td>\n",
       "      <td>2016-01-01 12:53:24</td>\n",
       "    </tr>\n",
       "    <tr>\n",
       "      <td>2</td>\n",
       "      <td>222298971</td>\n",
       "      <td>1664684</td>\n",
       "      <td>801</td>\n",
       "      <td>330001</td>\n",
       "      <td>51200</td>\n",
       "      <td>49900</td>\n",
       "      <td>e0e6019897</td>\n",
       "      <td>2</td>\n",
       "      <td>2016-01-01 21:42:51</td>\n",
       "      <td>2016-01-01 21:43:30</td>\n",
       "    </tr>\n",
       "    <tr>\n",
       "      <td>3</td>\n",
       "      <td>211494392</td>\n",
       "      <td>2669372</td>\n",
       "      <td>934</td>\n",
       "      <td>220002</td>\n",
       "      <td>62100</td>\n",
       "      <td>62100</td>\n",
       "      <td>9058255c90</td>\n",
       "      <td>3</td>\n",
       "      <td>2016-01-01 14:10:13</td>\n",
       "      <td>2016-01-01 14:11:18</td>\n",
       "    </tr>\n",
       "    <tr>\n",
       "      <td>4</td>\n",
       "      <td>334575272</td>\n",
       "      <td>1924727</td>\n",
       "      <td>422</td>\n",
       "      <td>230001</td>\n",
       "      <td>50600</td>\n",
       "      <td>42000</td>\n",
       "      <td>46d5cea30d</td>\n",
       "      <td>2</td>\n",
       "      <td>2016-01-01 17:43:35</td>\n",
       "      <td>2016-01-01 17:43:53</td>\n",
       "    </tr>\n",
       "    <tr>\n",
       "      <td>5</td>\n",
       "      <td>144825651</td>\n",
       "      <td>4148671</td>\n",
       "      <td>473</td>\n",
       "      <td>130006</td>\n",
       "      <td>149100</td>\n",
       "      <td>142000</td>\n",
       "      <td>6ff1752b69</td>\n",
       "      <td>2</td>\n",
       "      <td>2016-01-01 18:52:04</td>\n",
       "      <td>2016-01-01 18:52:47</td>\n",
       "    </tr>\n",
       "  </tbody>\n",
       "</table>\n",
       "</div>"
      ],
      "text/plain": [
       "      orderId   userId  productId  cityId   price  payMoney   channelId  \\\n",
       "id                                                                        \n",
       "1   232148841  2794924        268  110001   35300     35300  9058255c90   \n",
       "2   222298971  1664684        801  330001   51200     49900  e0e6019897   \n",
       "3   211494392  2669372        934  220002   62100     62100  9058255c90   \n",
       "4   334575272  1924727        422  230001   50600     42000  46d5cea30d   \n",
       "5   144825651  4148671        473  130006  149100    142000  6ff1752b69   \n",
       "\n",
       "    deviceType           createTime              payTime  \n",
       "id                                                        \n",
       "1            3  2016-01-01 12:53:02  2016-01-01 12:53:24  \n",
       "2            2  2016-01-01 21:42:51  2016-01-01 21:43:30  \n",
       "3            3  2016-01-01 14:10:13  2016-01-01 14:11:18  \n",
       "4            2  2016-01-01 17:43:35  2016-01-01 17:43:53  \n",
       "5            2  2016-01-01 18:52:04  2016-01-01 18:52:47  "
      ]
     },
     "execution_count": 2,
     "metadata": {},
     "output_type": "execute_result"
    }
   ],
   "source": [
    "df = pd.read_csv('order_info_2016.csv', index_col='id')\n",
    "df.head()"
   ]
  },
  {
   "cell_type": "code",
   "execution_count": 3,
   "metadata": {},
   "outputs": [
    {
     "data": {
      "text/html": [
       "<div>\n",
       "<style scoped>\n",
       "    .dataframe tbody tr th:only-of-type {\n",
       "        vertical-align: middle;\n",
       "    }\n",
       "\n",
       "    .dataframe tbody tr th {\n",
       "        vertical-align: top;\n",
       "    }\n",
       "\n",
       "    .dataframe thead th {\n",
       "        text-align: right;\n",
       "    }\n",
       "</style>\n",
       "<table border=\"1\" class=\"dataframe\">\n",
       "  <thead>\n",
       "    <tr style=\"text-align: right;\">\n",
       "      <th></th>\n",
       "      <th>orderId</th>\n",
       "      <th>userId</th>\n",
       "      <th>productId</th>\n",
       "      <th>cityId</th>\n",
       "      <th>price</th>\n",
       "      <th>payMoney</th>\n",
       "      <th>deviceType</th>\n",
       "    </tr>\n",
       "  </thead>\n",
       "  <tbody>\n",
       "    <tr>\n",
       "      <td>count</td>\n",
       "      <td>1.045570e+05</td>\n",
       "      <td>1.045570e+05</td>\n",
       "      <td>104557.000000</td>\n",
       "      <td>104557.000000</td>\n",
       "      <td>1.045570e+05</td>\n",
       "      <td>1.045570e+05</td>\n",
       "      <td>104557.000000</td>\n",
       "    </tr>\n",
       "    <tr>\n",
       "      <td>mean</td>\n",
       "      <td>2.993341e+08</td>\n",
       "      <td>3.270527e+06</td>\n",
       "      <td>504.566275</td>\n",
       "      <td>154410.947225</td>\n",
       "      <td>9.167350e+04</td>\n",
       "      <td>8.686689e+04</td>\n",
       "      <td>2.385292</td>\n",
       "    </tr>\n",
       "    <tr>\n",
       "      <td>std</td>\n",
       "      <td>5.149818e+07</td>\n",
       "      <td>4.138208e+07</td>\n",
       "      <td>288.130647</td>\n",
       "      <td>72197.163762</td>\n",
       "      <td>9.158836e+04</td>\n",
       "      <td>9.072028e+04</td>\n",
       "      <td>0.648472</td>\n",
       "    </tr>\n",
       "    <tr>\n",
       "      <td>min</td>\n",
       "      <td>1.035627e+08</td>\n",
       "      <td>2.930600e+04</td>\n",
       "      <td>0.000000</td>\n",
       "      <td>30000.000000</td>\n",
       "      <td>6.000000e+02</td>\n",
       "      <td>-1.000000e+03</td>\n",
       "      <td>1.000000</td>\n",
       "    </tr>\n",
       "    <tr>\n",
       "      <td>25%</td>\n",
       "      <td>2.633627e+08</td>\n",
       "      <td>2.179538e+06</td>\n",
       "      <td>254.000000</td>\n",
       "      <td>100011.000000</td>\n",
       "      <td>3.790000e+04</td>\n",
       "      <td>3.360000e+04</td>\n",
       "      <td>2.000000</td>\n",
       "    </tr>\n",
       "    <tr>\n",
       "      <td>50%</td>\n",
       "      <td>2.989828e+08</td>\n",
       "      <td>2.705995e+06</td>\n",
       "      <td>507.000000</td>\n",
       "      <td>150001.000000</td>\n",
       "      <td>5.920000e+04</td>\n",
       "      <td>5.500000e+04</td>\n",
       "      <td>2.000000</td>\n",
       "    </tr>\n",
       "    <tr>\n",
       "      <td>75%</td>\n",
       "      <td>3.349972e+08</td>\n",
       "      <td>3.271237e+06</td>\n",
       "      <td>758.000000</td>\n",
       "      <td>220002.000000</td>\n",
       "      <td>1.080000e+05</td>\n",
       "      <td>1.040000e+05</td>\n",
       "      <td>3.000000</td>\n",
       "    </tr>\n",
       "    <tr>\n",
       "      <td>max</td>\n",
       "      <td>4.871430e+08</td>\n",
       "      <td>3.072939e+09</td>\n",
       "      <td>1000.000000</td>\n",
       "      <td>380001.000000</td>\n",
       "      <td>2.295600e+06</td>\n",
       "      <td>2.294200e+06</td>\n",
       "      <td>6.000000</td>\n",
       "    </tr>\n",
       "  </tbody>\n",
       "</table>\n",
       "</div>"
      ],
      "text/plain": [
       "            orderId        userId      productId         cityId         price  \\\n",
       "count  1.045570e+05  1.045570e+05  104557.000000  104557.000000  1.045570e+05   \n",
       "mean   2.993341e+08  3.270527e+06     504.566275  154410.947225  9.167350e+04   \n",
       "std    5.149818e+07  4.138208e+07     288.130647   72197.163762  9.158836e+04   \n",
       "min    1.035627e+08  2.930600e+04       0.000000   30000.000000  6.000000e+02   \n",
       "25%    2.633627e+08  2.179538e+06     254.000000  100011.000000  3.790000e+04   \n",
       "50%    2.989828e+08  2.705995e+06     507.000000  150001.000000  5.920000e+04   \n",
       "75%    3.349972e+08  3.271237e+06     758.000000  220002.000000  1.080000e+05   \n",
       "max    4.871430e+08  3.072939e+09    1000.000000  380001.000000  2.295600e+06   \n",
       "\n",
       "           payMoney     deviceType  \n",
       "count  1.045570e+05  104557.000000  \n",
       "mean   8.686689e+04       2.385292  \n",
       "std    9.072028e+04       0.648472  \n",
       "min   -1.000000e+03       1.000000  \n",
       "25%    3.360000e+04       2.000000  \n",
       "50%    5.500000e+04       2.000000  \n",
       "75%    1.040000e+05       3.000000  \n",
       "max    2.294200e+06       6.000000  "
      ]
     },
     "execution_count": 3,
     "metadata": {},
     "output_type": "execute_result"
    }
   ],
   "source": [
    "df.describe()"
   ]
  },
  {
   "cell_type": "markdown",
   "metadata": {},
   "source": [
    "## 清洗数据开始，一列一列看\n",
    "### 看orderID是否有重复或者0的\n",
    "104530 ，上边是104557，因此有重复，需要删除"
   ]
  },
  {
   "cell_type": "code",
   "execution_count": 4,
   "metadata": {},
   "outputs": [
    {
     "data": {
      "text/plain": [
       "104530"
      ]
     },
     "execution_count": 4,
     "metadata": {},
     "output_type": "execute_result"
    }
   ],
   "source": [
    "df.orderId.unique().size"
   ]
  },
  {
   "cell_type": "code",
   "execution_count": 5,
   "metadata": {},
   "outputs": [
    {
     "data": {
      "text/plain": [
       "177"
      ]
     },
     "execution_count": 5,
     "metadata": {},
     "output_type": "execute_result"
    }
   ],
   "source": [
    "df.productId[df.productId==0].size"
   ]
  },
  {
   "cell_type": "markdown",
   "metadata": {},
   "source": [
    "有177个0 先记住，不处理"
   ]
  },
  {
   "cell_type": "markdown",
   "metadata": {},
   "source": [
    "### 把price换为元"
   ]
  },
  {
   "cell_type": "code",
   "execution_count": 8,
   "metadata": {},
   "outputs": [],
   "source": [
    "df.price = df.price / 100"
   ]
  },
  {
   "cell_type": "markdown",
   "metadata": {},
   "source": [
    "### 看paymoney 有多少不符合逻辑的（这里是小于零）"
   ]
  },
  {
   "cell_type": "code",
   "execution_count": 12,
   "metadata": {},
   "outputs": [
    {
     "data": {
      "text/html": [
       "<div>\n",
       "<style scoped>\n",
       "    .dataframe tbody tr th:only-of-type {\n",
       "        vertical-align: middle;\n",
       "    }\n",
       "\n",
       "    .dataframe tbody tr th {\n",
       "        vertical-align: top;\n",
       "    }\n",
       "\n",
       "    .dataframe thead th {\n",
       "        text-align: right;\n",
       "    }\n",
       "</style>\n",
       "<table border=\"1\" class=\"dataframe\">\n",
       "  <thead>\n",
       "    <tr style=\"text-align: right;\">\n",
       "      <th></th>\n",
       "      <th>orderId</th>\n",
       "      <th>userId</th>\n",
       "      <th>productId</th>\n",
       "      <th>cityId</th>\n",
       "      <th>price</th>\n",
       "      <th>payMoney</th>\n",
       "      <th>channelId</th>\n",
       "      <th>deviceType</th>\n",
       "      <th>createTime</th>\n",
       "      <th>payTime</th>\n",
       "    </tr>\n",
       "    <tr>\n",
       "      <th>id</th>\n",
       "      <th></th>\n",
       "      <th></th>\n",
       "      <th></th>\n",
       "      <th></th>\n",
       "      <th></th>\n",
       "      <th></th>\n",
       "      <th></th>\n",
       "      <th></th>\n",
       "      <th></th>\n",
       "      <th></th>\n",
       "    </tr>\n",
       "  </thead>\n",
       "  <tbody>\n",
       "    <tr>\n",
       "      <td>25344</td>\n",
       "      <td>288096069</td>\n",
       "      <td>2145955</td>\n",
       "      <td>511</td>\n",
       "      <td>230014</td>\n",
       "      <td>0.0111</td>\n",
       "      <td>-1000</td>\n",
       "      <td>df9f79c426</td>\n",
       "      <td>2</td>\n",
       "      <td>2016-03-11 21:32:54</td>\n",
       "      <td>2016-03-11 21:33:10</td>\n",
       "    </tr>\n",
       "    <tr>\n",
       "      <td>55044</td>\n",
       "      <td>296608442</td>\n",
       "      <td>4073997</td>\n",
       "      <td>385</td>\n",
       "      <td>120006</td>\n",
       "      <td>0.0111</td>\n",
       "      <td>-1000</td>\n",
       "      <td>cbccc0808e</td>\n",
       "      <td>2</td>\n",
       "      <td>2016-05-24 08:52:04</td>\n",
       "      <td>2016-05-24 08:52:23</td>\n",
       "    </tr>\n",
       "    <tr>\n",
       "      <td>66897</td>\n",
       "      <td>316685479</td>\n",
       "      <td>1949907</td>\n",
       "      <td>554</td>\n",
       "      <td>60019</td>\n",
       "      <td>0.2084</td>\n",
       "      <td>-1000</td>\n",
       "      <td>9058255c90</td>\n",
       "      <td>3</td>\n",
       "      <td>2016-03-31 11:57:46</td>\n",
       "      <td>2016-03-31 11:57:46</td>\n",
       "    </tr>\n",
       "    <tr>\n",
       "      <td>72556</td>\n",
       "      <td>323229098</td>\n",
       "      <td>2894042</td>\n",
       "      <td>548</td>\n",
       "      <td>220008</td>\n",
       "      <td>0.0114</td>\n",
       "      <td>-1000</td>\n",
       "      <td>41a4e91d29</td>\n",
       "      <td>2</td>\n",
       "      <td>2016-08-09 14:24:13</td>\n",
       "      <td>2016-08-09 14:24:26</td>\n",
       "    </tr>\n",
       "    <tr>\n",
       "      <td>81494</td>\n",
       "      <td>311194385</td>\n",
       "      <td>3370399</td>\n",
       "      <td>797</td>\n",
       "      <td>40001</td>\n",
       "      <td>0.0116</td>\n",
       "      <td>-990</td>\n",
       "      <td>ea5648bbe2</td>\n",
       "      <td>1</td>\n",
       "      <td>2016-09-06 11:20:43</td>\n",
       "      <td>2016-09-06 11:21:31</td>\n",
       "    </tr>\n",
       "    <tr>\n",
       "      <td>87878</td>\n",
       "      <td>324068352</td>\n",
       "      <td>1873953</td>\n",
       "      <td>602</td>\n",
       "      <td>260003</td>\n",
       "      <td>0.0292</td>\n",
       "      <td>-1000</td>\n",
       "      <td>9058255c90</td>\n",
       "      <td>3</td>\n",
       "      <td>2016-10-05 10:47:05</td>\n",
       "      <td>2016-10-05 10:47:05</td>\n",
       "    </tr>\n",
       "  </tbody>\n",
       "</table>\n",
       "</div>"
      ],
      "text/plain": [
       "         orderId   userId  productId  cityId   price  payMoney   channelId  \\\n",
       "id                                                                           \n",
       "25344  288096069  2145955        511  230014  0.0111     -1000  df9f79c426   \n",
       "55044  296608442  4073997        385  120006  0.0111     -1000  cbccc0808e   \n",
       "66897  316685479  1949907        554   60019  0.2084     -1000  9058255c90   \n",
       "72556  323229098  2894042        548  220008  0.0114     -1000  41a4e91d29   \n",
       "81494  311194385  3370399        797   40001  0.0116      -990  ea5648bbe2   \n",
       "87878  324068352  1873953        602  260003  0.0292     -1000  9058255c90   \n",
       "\n",
       "       deviceType           createTime              payTime  \n",
       "id                                                           \n",
       "25344           2  2016-03-11 21:32:54  2016-03-11 21:33:10  \n",
       "55044           2  2016-05-24 08:52:04  2016-05-24 08:52:23  \n",
       "66897           3  2016-03-31 11:57:46  2016-03-31 11:57:46  \n",
       "72556           2  2016-08-09 14:24:13  2016-08-09 14:24:26  \n",
       "81494           1  2016-09-06 11:20:43  2016-09-06 11:21:31  \n",
       "87878           3  2016-10-05 10:47:05  2016-10-05 10:47:05  "
      ]
     },
     "execution_count": 12,
     "metadata": {},
     "output_type": "execute_result"
    }
   ],
   "source": [
    "df[df.payMoney < 0]"
   ]
  },
  {
   "cell_type": "markdown",
   "metadata": {},
   "source": [
    "#### 删掉paymoney不符合逻辑的行"
   ]
  },
  {
   "cell_type": "code",
   "execution_count": 13,
   "metadata": {},
   "outputs": [],
   "source": [
    "df.drop(index=df[df.payMoney < 0].index, inplace=True)"
   ]
  },
  {
   "cell_type": "code",
   "execution_count": 14,
   "metadata": {},
   "outputs": [
    {
     "data": {
      "text/html": [
       "<div>\n",
       "<style scoped>\n",
       "    .dataframe tbody tr th:only-of-type {\n",
       "        vertical-align: middle;\n",
       "    }\n",
       "\n",
       "    .dataframe tbody tr th {\n",
       "        vertical-align: top;\n",
       "    }\n",
       "\n",
       "    .dataframe thead th {\n",
       "        text-align: right;\n",
       "    }\n",
       "</style>\n",
       "<table border=\"1\" class=\"dataframe\">\n",
       "  <thead>\n",
       "    <tr style=\"text-align: right;\">\n",
       "      <th></th>\n",
       "      <th>orderId</th>\n",
       "      <th>userId</th>\n",
       "      <th>productId</th>\n",
       "      <th>cityId</th>\n",
       "      <th>price</th>\n",
       "      <th>payMoney</th>\n",
       "      <th>channelId</th>\n",
       "      <th>deviceType</th>\n",
       "      <th>createTime</th>\n",
       "      <th>payTime</th>\n",
       "    </tr>\n",
       "    <tr>\n",
       "      <th>id</th>\n",
       "      <th></th>\n",
       "      <th></th>\n",
       "      <th></th>\n",
       "      <th></th>\n",
       "      <th></th>\n",
       "      <th></th>\n",
       "      <th></th>\n",
       "      <th></th>\n",
       "      <th></th>\n",
       "      <th></th>\n",
       "    </tr>\n",
       "  </thead>\n",
       "  <tbody>\n",
       "  </tbody>\n",
       "</table>\n",
       "</div>"
      ],
      "text/plain": [
       "Empty DataFrame\n",
       "Columns: [orderId, userId, productId, cityId, price, payMoney, channelId, deviceType, createTime, payTime]\n",
       "Index: []"
      ]
     },
     "execution_count": 14,
     "metadata": {},
     "output_type": "execute_result"
    }
   ],
   "source": [
    "df[df.payMoney < 0]"
   ]
  },
  {
   "cell_type": "markdown",
   "metadata": {},
   "source": [
    "#### 看上边，没了；看下边转化单位"
   ]
  },
  {
   "cell_type": "code",
   "execution_count": 15,
   "metadata": {},
   "outputs": [],
   "source": [
    "df.payMoney = df.payMoney / 100"
   ]
  },
  {
   "cell_type": "markdown",
   "metadata": {},
   "source": [
    "### 看channelID 问题，首先看是不是有null的"
   ]
  },
  {
   "cell_type": "code",
   "execution_count": 16,
   "metadata": {},
   "outputs": [
    {
     "data": {
      "text/html": [
       "<div>\n",
       "<style scoped>\n",
       "    .dataframe tbody tr th:only-of-type {\n",
       "        vertical-align: middle;\n",
       "    }\n",
       "\n",
       "    .dataframe tbody tr th {\n",
       "        vertical-align: top;\n",
       "    }\n",
       "\n",
       "    .dataframe thead th {\n",
       "        text-align: right;\n",
       "    }\n",
       "</style>\n",
       "<table border=\"1\" class=\"dataframe\">\n",
       "  <thead>\n",
       "    <tr style=\"text-align: right;\">\n",
       "      <th></th>\n",
       "      <th>orderId</th>\n",
       "      <th>userId</th>\n",
       "      <th>productId</th>\n",
       "      <th>cityId</th>\n",
       "      <th>price</th>\n",
       "      <th>payMoney</th>\n",
       "      <th>channelId</th>\n",
       "      <th>deviceType</th>\n",
       "      <th>createTime</th>\n",
       "      <th>payTime</th>\n",
       "    </tr>\n",
       "    <tr>\n",
       "      <th>id</th>\n",
       "      <th></th>\n",
       "      <th></th>\n",
       "      <th></th>\n",
       "      <th></th>\n",
       "      <th></th>\n",
       "      <th></th>\n",
       "      <th></th>\n",
       "      <th></th>\n",
       "      <th></th>\n",
       "      <th></th>\n",
       "    </tr>\n",
       "  </thead>\n",
       "  <tbody>\n",
       "    <tr>\n",
       "      <td>19086</td>\n",
       "      <td>284008366</td>\n",
       "      <td>3309847</td>\n",
       "      <td>698</td>\n",
       "      <td>240001</td>\n",
       "      <td>0.2164</td>\n",
       "      <td>2040.0</td>\n",
       "      <td>NaN</td>\n",
       "      <td>2</td>\n",
       "      <td>2016-03-08 22:36:12</td>\n",
       "      <td>2016-03-08 22:36:50</td>\n",
       "    </tr>\n",
       "    <tr>\n",
       "      <td>38175</td>\n",
       "      <td>287706890</td>\n",
       "      <td>2799815</td>\n",
       "      <td>823</td>\n",
       "      <td>70001</td>\n",
       "      <td>0.0760</td>\n",
       "      <td>749.0</td>\n",
       "      <td>NaN</td>\n",
       "      <td>3</td>\n",
       "      <td>2016-06-10 22:30:18</td>\n",
       "      <td>2016-06-10 22:30:47</td>\n",
       "    </tr>\n",
       "    <tr>\n",
       "      <td>48073</td>\n",
       "      <td>248057459</td>\n",
       "      <td>3970570</td>\n",
       "      <td>142</td>\n",
       "      <td>130001</td>\n",
       "      <td>0.0474</td>\n",
       "      <td>400.0</td>\n",
       "      <td>NaN</td>\n",
       "      <td>2</td>\n",
       "      <td>2016-03-30 12:59:03</td>\n",
       "      <td>2016-03-30 12:59:13</td>\n",
       "    </tr>\n",
       "    <tr>\n",
       "      <td>75949</td>\n",
       "      <td>266847859</td>\n",
       "      <td>3761925</td>\n",
       "      <td>649</td>\n",
       "      <td>120006</td>\n",
       "      <td>0.0257</td>\n",
       "      <td>257.0</td>\n",
       "      <td>NaN</td>\n",
       "      <td>2</td>\n",
       "      <td>2016-08-19 08:46:22</td>\n",
       "      <td>2016-08-19 08:46:39</td>\n",
       "    </tr>\n",
       "    <tr>\n",
       "      <td>100952</td>\n",
       "      <td>283627429</td>\n",
       "      <td>4156620</td>\n",
       "      <td>269</td>\n",
       "      <td>280001</td>\n",
       "      <td>0.0484</td>\n",
       "      <td>410.0</td>\n",
       "      <td>NaN</td>\n",
       "      <td>2</td>\n",
       "      <td>2016-12-13 13:24:37</td>\n",
       "      <td>2016-12-13 14:47:08</td>\n",
       "    </tr>\n",
       "    <tr>\n",
       "      <td>100953</td>\n",
       "      <td>346836140</td>\n",
       "      <td>3751526</td>\n",
       "      <td>738</td>\n",
       "      <td>100013</td>\n",
       "      <td>0.0105</td>\n",
       "      <td>80.0</td>\n",
       "      <td>NaN</td>\n",
       "      <td>1</td>\n",
       "      <td>2016-12-13 13:47:34</td>\n",
       "      <td>2016-12-13 13:47:44</td>\n",
       "    </tr>\n",
       "    <tr>\n",
       "      <td>100954</td>\n",
       "      <td>352853915</td>\n",
       "      <td>2229389</td>\n",
       "      <td>786</td>\n",
       "      <td>240001</td>\n",
       "      <td>0.0474</td>\n",
       "      <td>440.0</td>\n",
       "      <td>NaN</td>\n",
       "      <td>2</td>\n",
       "      <td>2016-12-13 16:54:09</td>\n",
       "      <td>2016-12-13 16:55:00</td>\n",
       "    </tr>\n",
       "    <tr>\n",
       "      <td>100955</td>\n",
       "      <td>379473081</td>\n",
       "      <td>4531810</td>\n",
       "      <td>18</td>\n",
       "      <td>180009</td>\n",
       "      <td>0.0146</td>\n",
       "      <td>50.0</td>\n",
       "      <td>NaN</td>\n",
       "      <td>3</td>\n",
       "      <td>2016-12-13 20:18:22</td>\n",
       "      <td>2016-12-13 20:18:34</td>\n",
       "    </tr>\n",
       "  </tbody>\n",
       "</table>\n",
       "</div>"
      ],
      "text/plain": [
       "          orderId   userId  productId  cityId   price  payMoney channelId  \\\n",
       "id                                                                          \n",
       "19086   284008366  3309847        698  240001  0.2164    2040.0       NaN   \n",
       "38175   287706890  2799815        823   70001  0.0760     749.0       NaN   \n",
       "48073   248057459  3970570        142  130001  0.0474     400.0       NaN   \n",
       "75949   266847859  3761925        649  120006  0.0257     257.0       NaN   \n",
       "100952  283627429  4156620        269  280001  0.0484     410.0       NaN   \n",
       "100953  346836140  3751526        738  100013  0.0105      80.0       NaN   \n",
       "100954  352853915  2229389        786  240001  0.0474     440.0       NaN   \n",
       "100955  379473081  4531810         18  180009  0.0146      50.0       NaN   \n",
       "\n",
       "        deviceType           createTime              payTime  \n",
       "id                                                            \n",
       "19086            2  2016-03-08 22:36:12  2016-03-08 22:36:50  \n",
       "38175            3  2016-06-10 22:30:18  2016-06-10 22:30:47  \n",
       "48073            2  2016-03-30 12:59:03  2016-03-30 12:59:13  \n",
       "75949            2  2016-08-19 08:46:22  2016-08-19 08:46:39  \n",
       "100952           2  2016-12-13 13:24:37  2016-12-13 14:47:08  \n",
       "100953           1  2016-12-13 13:47:34  2016-12-13 13:47:44  \n",
       "100954           2  2016-12-13 16:54:09  2016-12-13 16:55:00  \n",
       "100955           3  2016-12-13 20:18:22  2016-12-13 20:18:34  "
      ]
     },
     "execution_count": 16,
     "metadata": {},
     "output_type": "execute_result"
    }
   ],
   "source": [
    "df[df.channelId.isnull()]"
   ]
  },
  {
   "cell_type": "markdown",
   "metadata": {},
   "source": [
    "#### 删掉channelid为null的行"
   ]
  },
  {
   "cell_type": "code",
   "execution_count": 17,
   "metadata": {},
   "outputs": [],
   "source": [
    "df.drop(index=df[df.channelId.isnull()].index, inplace=True)"
   ]
  },
  {
   "cell_type": "code",
   "execution_count": 18,
   "metadata": {
    "scrolled": true
   },
   "outputs": [
    {
     "data": {
      "text/html": [
       "<div>\n",
       "<style scoped>\n",
       "    .dataframe tbody tr th:only-of-type {\n",
       "        vertical-align: middle;\n",
       "    }\n",
       "\n",
       "    .dataframe tbody tr th {\n",
       "        vertical-align: top;\n",
       "    }\n",
       "\n",
       "    .dataframe thead th {\n",
       "        text-align: right;\n",
       "    }\n",
       "</style>\n",
       "<table border=\"1\" class=\"dataframe\">\n",
       "  <thead>\n",
       "    <tr style=\"text-align: right;\">\n",
       "      <th></th>\n",
       "      <th>orderId</th>\n",
       "      <th>userId</th>\n",
       "      <th>productId</th>\n",
       "      <th>cityId</th>\n",
       "      <th>price</th>\n",
       "      <th>payMoney</th>\n",
       "      <th>channelId</th>\n",
       "      <th>deviceType</th>\n",
       "      <th>createTime</th>\n",
       "      <th>payTime</th>\n",
       "    </tr>\n",
       "    <tr>\n",
       "      <th>id</th>\n",
       "      <th></th>\n",
       "      <th></th>\n",
       "      <th></th>\n",
       "      <th></th>\n",
       "      <th></th>\n",
       "      <th></th>\n",
       "      <th></th>\n",
       "      <th></th>\n",
       "      <th></th>\n",
       "      <th></th>\n",
       "    </tr>\n",
       "  </thead>\n",
       "  <tbody>\n",
       "  </tbody>\n",
       "</table>\n",
       "</div>"
      ],
      "text/plain": [
       "Empty DataFrame\n",
       "Columns: [orderId, userId, productId, cityId, price, payMoney, channelId, deviceType, createTime, payTime]\n",
       "Index: []"
      ]
     },
     "execution_count": 18,
     "metadata": {},
     "output_type": "execute_result"
    }
   ],
   "source": [
    "df[df.channelId.isnull()]"
   ]
  },
  {
   "cell_type": "markdown",
   "metadata": {},
   "source": [
    "### 看device Type没问题，过\n",
    "### 看payTime （因为有些是需要分析时间区间的）这里不涉及\n",
    "### 删除清理之前提到的orderID重复内容"
   ]
  },
  {
   "cell_type": "code",
   "execution_count": 19,
   "metadata": {},
   "outputs": [],
   "source": [
    "df.drop(index=df[df.orderId.duplicated()].index, inplace=True)"
   ]
  },
  {
   "cell_type": "code",
   "execution_count": 20,
   "metadata": {},
   "outputs": [
    {
     "data": {
      "text/plain": [
       "104516"
      ]
     },
     "execution_count": 20,
     "metadata": {},
     "output_type": "execute_result"
    }
   ],
   "source": [
    "df.orderId.unique().size"
   ]
  },
  {
   "cell_type": "code",
   "execution_count": 21,
   "metadata": {
    "scrolled": true
   },
   "outputs": [
    {
     "data": {
      "text/html": [
       "<div>\n",
       "<style scoped>\n",
       "    .dataframe tbody tr th:only-of-type {\n",
       "        vertical-align: middle;\n",
       "    }\n",
       "\n",
       "    .dataframe tbody tr th {\n",
       "        vertical-align: top;\n",
       "    }\n",
       "\n",
       "    .dataframe thead th {\n",
       "        text-align: right;\n",
       "    }\n",
       "</style>\n",
       "<table border=\"1\" class=\"dataframe\">\n",
       "  <thead>\n",
       "    <tr style=\"text-align: right;\">\n",
       "      <th></th>\n",
       "      <th>orderId</th>\n",
       "      <th>userId</th>\n",
       "      <th>productId</th>\n",
       "      <th>cityId</th>\n",
       "      <th>price</th>\n",
       "      <th>payMoney</th>\n",
       "      <th>deviceType</th>\n",
       "    </tr>\n",
       "  </thead>\n",
       "  <tbody>\n",
       "    <tr>\n",
       "      <td>count</td>\n",
       "      <td>1.045160e+05</td>\n",
       "      <td>1.045160e+05</td>\n",
       "      <td>104516.000000</td>\n",
       "      <td>104516.000000</td>\n",
       "      <td>104516.000000</td>\n",
       "      <td>104516.000000</td>\n",
       "      <td>104516.000000</td>\n",
       "    </tr>\n",
       "    <tr>\n",
       "      <td>mean</td>\n",
       "      <td>2.993318e+08</td>\n",
       "      <td>3.270624e+06</td>\n",
       "      <td>504.557685</td>\n",
       "      <td>154408.752507</td>\n",
       "      <td>0.091675</td>\n",
       "      <td>868.712246</td>\n",
       "      <td>2.385338</td>\n",
       "    </tr>\n",
       "    <tr>\n",
       "      <td>std</td>\n",
       "      <td>5.150345e+07</td>\n",
       "      <td>4.139020e+07</td>\n",
       "      <td>288.133766</td>\n",
       "      <td>72200.173908</td>\n",
       "      <td>0.091591</td>\n",
       "      <td>907.229857</td>\n",
       "      <td>0.648447</td>\n",
       "    </tr>\n",
       "    <tr>\n",
       "      <td>min</td>\n",
       "      <td>1.035627e+08</td>\n",
       "      <td>2.930600e+04</td>\n",
       "      <td>0.000000</td>\n",
       "      <td>30000.000000</td>\n",
       "      <td>0.000600</td>\n",
       "      <td>0.000000</td>\n",
       "      <td>1.000000</td>\n",
       "    </tr>\n",
       "    <tr>\n",
       "      <td>25%</td>\n",
       "      <td>2.633514e+08</td>\n",
       "      <td>2.179478e+06</td>\n",
       "      <td>254.000000</td>\n",
       "      <td>100011.000000</td>\n",
       "      <td>0.037900</td>\n",
       "      <td>336.000000</td>\n",
       "      <td>2.000000</td>\n",
       "    </tr>\n",
       "    <tr>\n",
       "      <td>50%</td>\n",
       "      <td>2.989818e+08</td>\n",
       "      <td>2.705880e+06</td>\n",
       "      <td>507.000000</td>\n",
       "      <td>150001.000000</td>\n",
       "      <td>0.059200</td>\n",
       "      <td>550.000000</td>\n",
       "      <td>2.000000</td>\n",
       "    </tr>\n",
       "    <tr>\n",
       "      <td>75%</td>\n",
       "      <td>3.349980e+08</td>\n",
       "      <td>3.271115e+06</td>\n",
       "      <td>758.000000</td>\n",
       "      <td>220002.000000</td>\n",
       "      <td>0.108000</td>\n",
       "      <td>1040.000000</td>\n",
       "      <td>3.000000</td>\n",
       "    </tr>\n",
       "    <tr>\n",
       "      <td>max</td>\n",
       "      <td>4.871430e+08</td>\n",
       "      <td>3.072939e+09</td>\n",
       "      <td>1000.000000</td>\n",
       "      <td>380001.000000</td>\n",
       "      <td>2.295600</td>\n",
       "      <td>22942.000000</td>\n",
       "      <td>6.000000</td>\n",
       "    </tr>\n",
       "  </tbody>\n",
       "</table>\n",
       "</div>"
      ],
      "text/plain": [
       "            orderId        userId      productId         cityId  \\\n",
       "count  1.045160e+05  1.045160e+05  104516.000000  104516.000000   \n",
       "mean   2.993318e+08  3.270624e+06     504.557685  154408.752507   \n",
       "std    5.150345e+07  4.139020e+07     288.133766   72200.173908   \n",
       "min    1.035627e+08  2.930600e+04       0.000000   30000.000000   \n",
       "25%    2.633514e+08  2.179478e+06     254.000000  100011.000000   \n",
       "50%    2.989818e+08  2.705880e+06     507.000000  150001.000000   \n",
       "75%    3.349980e+08  3.271115e+06     758.000000  220002.000000   \n",
       "max    4.871430e+08  3.072939e+09    1000.000000  380001.000000   \n",
       "\n",
       "               price       payMoney     deviceType  \n",
       "count  104516.000000  104516.000000  104516.000000  \n",
       "mean        0.091675     868.712246       2.385338  \n",
       "std         0.091591     907.229857       0.648447  \n",
       "min         0.000600       0.000000       1.000000  \n",
       "25%         0.037900     336.000000       2.000000  \n",
       "50%         0.059200     550.000000       2.000000  \n",
       "75%         0.108000    1040.000000       3.000000  \n",
       "max         2.295600   22942.000000       6.000000  "
      ]
     },
     "execution_count": 21,
     "metadata": {},
     "output_type": "execute_result"
    }
   ],
   "source": [
    "df.describe()"
   ]
  },
  {
   "cell_type": "markdown",
   "metadata": {},
   "source": [
    "## 分组查看\n",
    "### 看订单号和产品号关系"
   ]
  },
  {
   "cell_type": "code",
   "execution_count": 36,
   "metadata": {
    "scrolled": true
   },
   "outputs": [
    {
     "data": {
      "text/plain": [
       "productId\n",
       "895    354\n",
       "762    350\n",
       "103    334\n",
       "587    303\n",
       "385    302\n",
       "60     301\n",
       "38     301\n",
       "403    297\n",
       "345    292\n",
       "823    288\n",
       "Name: orderId, dtype: int64"
      ]
     },
     "execution_count": 36,
     "metadata": {},
     "output_type": "execute_result"
    }
   ],
   "source": [
    "# 通过ascending 的True 小到大； False 大到小\n",
    "productId_orderCount = df.groupby('productId').count()['orderId'].sort_values(ascending=False)\n",
    "productId_orderCount.head(10)"
   ]
  },
  {
   "cell_type": "markdown",
   "metadata": {},
   "source": [
    "### 看付款和产品号关系"
   ]
  },
  {
   "cell_type": "code",
   "execution_count": 37,
   "metadata": {},
   "outputs": [
    {
     "data": {
      "text/plain": [
       "productId\n",
       "385    427522.1\n",
       "61     361572.0\n",
       "103    344641.2\n",
       "405    339525.0\n",
       "720    322405.1\n",
       "345    320162.2\n",
       "698    318458.6\n",
       "182    296600.0\n",
       "383    280790.0\n",
       "396    269556.0\n",
       "Name: payMoney, dtype: float64"
      ]
     },
     "execution_count": 37,
     "metadata": {},
     "output_type": "execute_result"
    }
   ],
   "source": [
    "# 通过销售额 看，也是通过ascending 的True 小到大； False 大到小\n",
    "productId_turnover = df.groupby('productId').sum()['payMoney'].sort_values(ascending=False)\n",
    "productId_turnover.head(10)"
   ]
  },
  {
   "cell_type": "markdown",
   "metadata": {},
   "source": [
    "### 用intersection看 ordercount 最后50个和产品付款最后50个联合起来看，找出来的是产品ID号"
   ]
  },
  {
   "cell_type": "code",
   "execution_count": 38,
   "metadata": {},
   "outputs": [
    {
     "data": {
      "text/plain": [
       "Int64Index([ 242,  408,  392,  964,  104,  436,  247,  578,  579,  859,  958,\n",
       "             454,  227,   16,  310,  277,  478,  948,  856,  621,  272,  347,\n",
       "             597,  468,  986, 1000],\n",
       "           dtype='int64', name='productId')"
      ]
     },
     "execution_count": 38,
     "metadata": {},
     "output_type": "execute_result"
    }
   ],
   "source": [
    "productId_orderCount.tail(50).index.intersection(productId_turnover.tail(50).index)"
   ]
  },
  {
   "cell_type": "markdown",
   "metadata": {},
   "source": [
    "### 做一个区间，看区间里的数据"
   ]
  },
  {
   "cell_type": "code",
   "execution_count": 57,
   "metadata": {},
   "outputs": [
    {
     "data": {
      "text/plain": [
       "(0, 100]          104516\n",
       "(7700, 7800]           0\n",
       "(9000, 9100]           0\n",
       "(8900, 9000]           0\n",
       "(8800, 8900]           0\n",
       "                   ...  \n",
       "(16000, 16100]         0\n",
       "(15900, 16000]         0\n",
       "(15800, 15900]         0\n",
       "(15700, 15800]         0\n",
       "(12400, 12500]         0\n",
       "Name: price, Length: 249, dtype: int64"
      ]
     },
     "execution_count": 57,
     "metadata": {},
     "output_type": "execute_result"
    }
   ],
   "source": [
    "bins = np.arange(0, 25000, 100)\n",
    "pd.cut(df.price, bins).value_counts()#.sort_values(ascending=False)"
   ]
  },
  {
   "cell_type": "markdown",
   "metadata": {},
   "source": [
    "实际中，要分析很多内容，各个维度的组合\n",
    "若有突然出现变化、异常等，想办法找到对应原因\n",
    "下单时间，支付时间也可以分析，如分析之间存在差值"
   ]
  }
 ],
 "metadata": {
  "kernelspec": {
   "display_name": "Python 3",
   "language": "python",
   "name": "python3"
  },
  "language_info": {
   "codemirror_mode": {
    "name": "ipython",
    "version": 3
   },
   "file_extension": ".py",
   "mimetype": "text/x-python",
   "name": "python",
   "nbconvert_exporter": "python",
   "pygments_lexer": "ipython3",
   "version": "3.7.4"
  },
  "toc": {
   "base_numbering": 1,
   "nav_menu": {},
   "number_sections": true,
   "sideBar": true,
   "skip_h1_title": false,
   "title_cell": "Table of Contents",
   "title_sidebar": "Contents",
   "toc_cell": false,
   "toc_position": {
    "height": "calc(100% - 180px)",
    "left": "10px",
    "top": "150px",
    "width": "165px"
   },
   "toc_section_display": true,
   "toc_window_display": true
  }
 },
 "nbformat": 4,
 "nbformat_minor": 2
}
