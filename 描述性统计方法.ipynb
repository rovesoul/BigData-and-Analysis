{
 "cells": [
  {
   "cell_type": "markdown",
   "metadata": {},
   "source": [
    "# 描述性统计方法"
   ]
  },
  {
   "cell_type": "code",
   "execution_count": 1,
   "metadata": {},
   "outputs": [],
   "source": [
    "import numpy as np\n",
    "import pandas as pd\n",
    "import matplotlib.pyplot as plt\n",
    "import seaborn as sns\n",
    "from sklearn.datasets import load_iris\n",
    "import warnings"
   ]
  },
  {
   "cell_type": "code",
   "execution_count": 2,
   "metadata": {},
   "outputs": [
    {
     "data": {
      "text/html": [
       "<div>\n",
       "<style scoped>\n",
       "    .dataframe tbody tr th:only-of-type {\n",
       "        vertical-align: middle;\n",
       "    }\n",
       "\n",
       "    .dataframe tbody tr th {\n",
       "        vertical-align: top;\n",
       "    }\n",
       "\n",
       "    .dataframe thead th {\n",
       "        text-align: right;\n",
       "    }\n",
       "</style>\n",
       "<table border=\"1\" class=\"dataframe\">\n",
       "  <thead>\n",
       "    <tr style=\"text-align: right;\">\n",
       "      <th></th>\n",
       "      <th>1</th>\n",
       "      <th>2</th>\n",
       "      <th>3</th>\n",
       "      <th>4</th>\n",
       "    </tr>\n",
       "  </thead>\n",
       "  <tbody>\n",
       "    <tr>\n",
       "      <td>93</td>\n",
       "      <td>.SF NS Text Condensed</td>\n",
       "      <td>Opus Special Extra Std</td>\n",
       "      <td>.SF Compact Rounded</td>\n",
       "      <td>Opus Note Names Std</td>\n",
       "    </tr>\n",
       "    <tr>\n",
       "      <td>48</td>\n",
       "      <td>Geeza Pro</td>\n",
       "      <td>Helvetica Neue</td>\n",
       "      <td>Superclarendon</td>\n",
       "      <td>.SF Compact Display</td>\n",
       "    </tr>\n",
       "    <tr>\n",
       "      <td>59</td>\n",
       "      <td>Papyrus</td>\n",
       "      <td>Corsiva Hebrew</td>\n",
       "      <td>Apple Braille</td>\n",
       "      <td>Verdana</td>\n",
       "    </tr>\n",
       "    <tr>\n",
       "      <td>23</td>\n",
       "      <td>.SF NS Display Condensed</td>\n",
       "      <td>.SF Compact Text</td>\n",
       "      <td>Reprise Stamp Std</td>\n",
       "      <td>Chalkboard SE</td>\n",
       "    </tr>\n",
       "    <tr>\n",
       "      <td>69</td>\n",
       "      <td>Verdana</td>\n",
       "      <td>Nadeem</td>\n",
       "      <td>Raanana</td>\n",
       "      <td>Opus Figured Bass Extras Std</td>\n",
       "    </tr>\n",
       "    <tr>\n",
       "      <td>36</td>\n",
       "      <td>Chalkduster</td>\n",
       "      <td>Al Tarikh</td>\n",
       "      <td>Sinhala Sangam MN</td>\n",
       "      <td>Arial Rounded MT Bold</td>\n",
       "    </tr>\n",
       "    <tr>\n",
       "      <td>5</td>\n",
       "      <td>DejaVu Serif</td>\n",
       "      <td>cmr10</td>\n",
       "      <td>cmss10</td>\n",
       "      <td>DejaVu Sans Mono</td>\n",
       "    </tr>\n",
       "    <tr>\n",
       "      <td>35</td>\n",
       "      <td>Avenir Next</td>\n",
       "      <td>STIXIntegralsUpD</td>\n",
       "      <td>Reprise Special Std</td>\n",
       "      <td>Seravek</td>\n",
       "    </tr>\n",
       "    <tr>\n",
       "      <td>86</td>\n",
       "      <td>Avenir Next Condensed</td>\n",
       "      <td>.SF NS Text Condensed</td>\n",
       "      <td>Luminari</td>\n",
       "      <td>Lao Sangam MN</td>\n",
       "    </tr>\n",
       "    <tr>\n",
       "      <td>83</td>\n",
       "      <td>.Helvetica Neue DeskInterface</td>\n",
       "      <td>Charter</td>\n",
       "      <td>Telugu MN</td>\n",
       "      <td>Bradley Hand</td>\n",
       "    </tr>\n",
       "    <tr>\n",
       "      <td>15</td>\n",
       "      <td>Palatino</td>\n",
       "      <td>Plantin MT Std</td>\n",
       "      <td>Kokonor</td>\n",
       "      <td>Diwan Thuluth</td>\n",
       "    </tr>\n",
       "    <tr>\n",
       "      <td>37</td>\n",
       "      <td>Snell Roundhand</td>\n",
       "      <td>Lucida Grande</td>\n",
       "      <td>.SF NS Display Condensed</td>\n",
       "      <td>.SF Compact Rounded</td>\n",
       "    </tr>\n",
       "    <tr>\n",
       "      <td>85</td>\n",
       "      <td>System Font</td>\n",
       "      <td>Thonburi</td>\n",
       "      <td>Arial Hebrew</td>\n",
       "      <td>.Arabic UI Display</td>\n",
       "    </tr>\n",
       "    <tr>\n",
       "      <td>72</td>\n",
       "      <td>STIXIntegralsUp</td>\n",
       "      <td>Arial</td>\n",
       "      <td>STIXIntegralsUpSm</td>\n",
       "      <td>STIXGeneral</td>\n",
       "    </tr>\n",
       "    <tr>\n",
       "      <td>9</td>\n",
       "      <td>STIXNonUnicode</td>\n",
       "      <td>STIXSizeFiveSym</td>\n",
       "      <td>Optima</td>\n",
       "      <td>Kannada Sangam MN</td>\n",
       "    </tr>\n",
       "    <tr>\n",
       "      <td>84</td>\n",
       "      <td>Wingdings 2</td>\n",
       "      <td>Apple Braille</td>\n",
       "      <td>Apple Symbols</td>\n",
       "      <td>InaiMathi</td>\n",
       "    </tr>\n",
       "    <tr>\n",
       "      <td>14</td>\n",
       "      <td>STIXIntegralsUp</td>\n",
       "      <td>Reprise Rehearsal Std</td>\n",
       "      <td>Diwan Kufi</td>\n",
       "      <td>.SF NS Display Condensed</td>\n",
       "    </tr>\n",
       "    <tr>\n",
       "      <td>4</td>\n",
       "      <td>cmmi10</td>\n",
       "      <td>cmb10</td>\n",
       "      <td>STIXGeneral</td>\n",
       "      <td>STIXSizeOneSym</td>\n",
       "    </tr>\n",
       "    <tr>\n",
       "      <td>13</td>\n",
       "      <td>Opus Figured Bass Std</td>\n",
       "      <td>PT Sans</td>\n",
       "      <td>Verdana</td>\n",
       "      <td>.SF NS Symbols</td>\n",
       "    </tr>\n",
       "    <tr>\n",
       "      <td>25</td>\n",
       "      <td>Arial Narrow</td>\n",
       "      <td>Inkpen2 Special Std</td>\n",
       "      <td>Inkpen2 Chords Std</td>\n",
       "      <td>Shree Devanagari 714</td>\n",
       "    </tr>\n",
       "    <tr>\n",
       "      <td>92</td>\n",
       "      <td>Beirut</td>\n",
       "      <td>.LastResort</td>\n",
       "      <td>Hiragino Mincho ProN</td>\n",
       "      <td>.SF Compact Rounded</td>\n",
       "    </tr>\n",
       "    <tr>\n",
       "      <td>10</td>\n",
       "      <td>.SF NS Text Condensed</td>\n",
       "      <td>Courier New</td>\n",
       "      <td>Andale Mono</td>\n",
       "      <td>Inkpen2 Metronome Std</td>\n",
       "    </tr>\n",
       "    <tr>\n",
       "      <td>51</td>\n",
       "      <td>Plantin MT Std</td>\n",
       "      <td>Helvetica</td>\n",
       "      <td>Kannada MN</td>\n",
       "      <td>Malayalam Sangam MN</td>\n",
       "    </tr>\n",
       "    <tr>\n",
       "      <td>68</td>\n",
       "      <td>Reprise Chords Std</td>\n",
       "      <td>PT Mono</td>\n",
       "      <td>Silom</td>\n",
       "      <td>Aloisen Groove Text</td>\n",
       "    </tr>\n",
       "    <tr>\n",
       "      <td>28</td>\n",
       "      <td>Baskerville</td>\n",
       "      <td>.SF Compact Text</td>\n",
       "      <td>STIXVariants</td>\n",
       "      <td>KufiStandardGK</td>\n",
       "    </tr>\n",
       "    <tr>\n",
       "      <td>66</td>\n",
       "      <td>.SF Compact Text</td>\n",
       "      <td>Hiragino Sans</td>\n",
       "      <td>Wingdings</td>\n",
       "      <td>AvidOmnes</td>\n",
       "    </tr>\n",
       "    <tr>\n",
       "      <td>6</td>\n",
       "      <td>STIXGeneral</td>\n",
       "      <td>STIXSizeThreeSym</td>\n",
       "      <td>STIXSizeOneSym</td>\n",
       "      <td>cmtt10</td>\n",
       "    </tr>\n",
       "    <tr>\n",
       "      <td>7</td>\n",
       "      <td>STIXNonUnicode</td>\n",
       "      <td>STIXSizeTwoSym</td>\n",
       "      <td>STIXSizeFourSym</td>\n",
       "      <td>DejaVu Sans</td>\n",
       "    </tr>\n",
       "    <tr>\n",
       "      <td>80</td>\n",
       "      <td>Opus Chords Sans Condensed Std</td>\n",
       "      <td>Mishafi Gold</td>\n",
       "      <td>Opus Function Symbols Std</td>\n",
       "      <td>Hiragino Sans GB</td>\n",
       "    </tr>\n",
       "    <tr>\n",
       "      <td>46</td>\n",
       "      <td>Bangla MN</td>\n",
       "      <td>.SF Compact Display</td>\n",
       "      <td>Big Caslon</td>\n",
       "      <td>Bodoni 72</td>\n",
       "    </tr>\n",
       "    <tr>\n",
       "      <td>47</td>\n",
       "      <td>.SF Compact Text</td>\n",
       "      <td>Cochin</td>\n",
       "      <td>System Font</td>\n",
       "      <td>Rockwell</td>\n",
       "    </tr>\n",
       "    <tr>\n",
       "      <td>90</td>\n",
       "      <td>STIXIntegralsUpSm</td>\n",
       "      <td>Herculanum</td>\n",
       "      <td>Opus Std</td>\n",
       "      <td>New Peninim MT</td>\n",
       "    </tr>\n",
       "    <tr>\n",
       "      <td>29</td>\n",
       "      <td>.SF Compact Rounded</td>\n",
       "      <td>Lao MN</td>\n",
       "      <td>Oriya Sangam MN</td>\n",
       "      <td>Gurmukhi MT</td>\n",
       "    </tr>\n",
       "    <tr>\n",
       "      <td>75</td>\n",
       "      <td>Krungthep</td>\n",
       "      <td>Apple Braille</td>\n",
       "      <td>Noto Nastaliq Urdu</td>\n",
       "      <td>Bodoni Ornaments</td>\n",
       "    </tr>\n",
       "    <tr>\n",
       "      <td>52</td>\n",
       "      <td>STIXIntegralsUpD</td>\n",
       "      <td>System Font</td>\n",
       "      <td>.SF NS Symbols</td>\n",
       "      <td>Oriya MN</td>\n",
       "    </tr>\n",
       "    <tr>\n",
       "      <td>76</td>\n",
       "      <td>Reprise Std</td>\n",
       "      <td>Arial</td>\n",
       "      <td>.SF Compact Display</td>\n",
       "      <td>Kailasa</td>\n",
       "    </tr>\n",
       "    <tr>\n",
       "      <td>41</td>\n",
       "      <td>Aloisen GrooveU</td>\n",
       "      <td>Opus Big Time Std</td>\n",
       "      <td>STIXVariants</td>\n",
       "      <td>System Font</td>\n",
       "    </tr>\n",
       "    <tr>\n",
       "      <td>39</td>\n",
       "      <td>Helsinki Special Std</td>\n",
       "      <td>.SF Compact Text</td>\n",
       "      <td>Malayalam MN</td>\n",
       "      <td>Savoye LET</td>\n",
       "    </tr>\n",
       "    <tr>\n",
       "      <td>81</td>\n",
       "      <td>.SF NS Display Condensed</td>\n",
       "      <td>Devanagari MT</td>\n",
       "      <td>Comic Sans MS</td>\n",
       "      <td>Tamil MN</td>\n",
       "    </tr>\n",
       "    <tr>\n",
       "      <td>40</td>\n",
       "      <td>Marker Felt</td>\n",
       "      <td>.SF NS Symbols</td>\n",
       "      <td>Opus Percussion Std</td>\n",
       "      <td>Sinhala MN</td>\n",
       "    </tr>\n",
       "    <tr>\n",
       "      <td>60</td>\n",
       "      <td>.Aqua Kana</td>\n",
       "      <td>Plantin MT Std</td>\n",
       "      <td>Waseem</td>\n",
       "      <td>Skia</td>\n",
       "    </tr>\n",
       "    <tr>\n",
       "      <td>79</td>\n",
       "      <td>.SF Compact Display</td>\n",
       "      <td>Hiragino Sans</td>\n",
       "      <td>Gurmukhi Sangam MN</td>\n",
       "      <td>Farisi</td>\n",
       "    </tr>\n",
       "    <tr>\n",
       "      <td>94</td>\n",
       "      <td>Menlo</td>\n",
       "      <td>Trebuchet MS</td>\n",
       "      <td>Helsinki Text Std</td>\n",
       "      <td>Tamil Sangam MN</td>\n",
       "    </tr>\n",
       "    <tr>\n",
       "      <td>53</td>\n",
       "      <td>STIXSizeFourSym</td>\n",
       "      <td>.Keyboard</td>\n",
       "      <td>System Font</td>\n",
       "      <td>Georgia</td>\n",
       "    </tr>\n",
       "    <tr>\n",
       "      <td>3</td>\n",
       "      <td>cmsy10</td>\n",
       "      <td>DejaVu Serif Display</td>\n",
       "      <td>cmex10</td>\n",
       "      <td>DejaVu Sans Display</td>\n",
       "    </tr>\n",
       "    <tr>\n",
       "      <td>26</td>\n",
       "      <td>Tahoma</td>\n",
       "      <td>Al Bayan</td>\n",
       "      <td>Opus Metronome Std</td>\n",
       "      <td>.Arabic UI Text</td>\n",
       "    </tr>\n",
       "    <tr>\n",
       "      <td>24</td>\n",
       "      <td>Copperplate</td>\n",
       "      <td>.SF NS Symbols</td>\n",
       "      <td>Times New Roman</td>\n",
       "      <td>Heiti TC</td>\n",
       "    </tr>\n",
       "    <tr>\n",
       "      <td>22</td>\n",
       "      <td>Symbol</td>\n",
       "      <td>ITF Devanagari</td>\n",
       "      <td>.SF Compact Text</td>\n",
       "      <td>.SF NS Text Condensed</td>\n",
       "    </tr>\n",
       "    <tr>\n",
       "      <td>58</td>\n",
       "      <td>Kohinoor Telugu</td>\n",
       "      <td>DecoType Naskh</td>\n",
       "      <td>.SF Compact Rounded</td>\n",
       "      <td>STIXNonUnicode</td>\n",
       "    </tr>\n",
       "    <tr>\n",
       "      <td>1</td>\n",
       "      <td>DejaVu Serif</td>\n",
       "      <td>DejaVu Sans</td>\n",
       "      <td>STIXNonUnicode</td>\n",
       "      <td>DejaVu Serif</td>\n",
       "    </tr>\n",
       "  </tbody>\n",
       "</table>\n",
       "</div>"
      ],
      "text/plain": [
       "                                 1                       2  \\\n",
       "93           .SF NS Text Condensed  Opus Special Extra Std   \n",
       "48                       Geeza Pro          Helvetica Neue   \n",
       "59                         Papyrus          Corsiva Hebrew   \n",
       "23        .SF NS Display Condensed        .SF Compact Text   \n",
       "69                         Verdana                  Nadeem   \n",
       "36                     Chalkduster               Al Tarikh   \n",
       "5                     DejaVu Serif                   cmr10   \n",
       "35                     Avenir Next        STIXIntegralsUpD   \n",
       "86           Avenir Next Condensed   .SF NS Text Condensed   \n",
       "83   .Helvetica Neue DeskInterface                 Charter   \n",
       "15                        Palatino          Plantin MT Std   \n",
       "37                 Snell Roundhand           Lucida Grande   \n",
       "85                     System Font                Thonburi   \n",
       "72                 STIXIntegralsUp                   Arial   \n",
       "9                   STIXNonUnicode         STIXSizeFiveSym   \n",
       "84                     Wingdings 2           Apple Braille   \n",
       "14                 STIXIntegralsUp   Reprise Rehearsal Std   \n",
       "4                           cmmi10                   cmb10   \n",
       "13           Opus Figured Bass Std                 PT Sans   \n",
       "25                    Arial Narrow     Inkpen2 Special Std   \n",
       "92                          Beirut             .LastResort   \n",
       "10           .SF NS Text Condensed             Courier New   \n",
       "51                  Plantin MT Std               Helvetica   \n",
       "68              Reprise Chords Std                 PT Mono   \n",
       "28                     Baskerville        .SF Compact Text   \n",
       "66                .SF Compact Text           Hiragino Sans   \n",
       "6                      STIXGeneral        STIXSizeThreeSym   \n",
       "7                   STIXNonUnicode          STIXSizeTwoSym   \n",
       "80  Opus Chords Sans Condensed Std            Mishafi Gold   \n",
       "46                       Bangla MN     .SF Compact Display   \n",
       "47                .SF Compact Text                  Cochin   \n",
       "90               STIXIntegralsUpSm              Herculanum   \n",
       "29             .SF Compact Rounded                  Lao MN   \n",
       "75                       Krungthep           Apple Braille   \n",
       "52                STIXIntegralsUpD             System Font   \n",
       "76                     Reprise Std                   Arial   \n",
       "41                 Aloisen GrooveU       Opus Big Time Std   \n",
       "39            Helsinki Special Std        .SF Compact Text   \n",
       "81        .SF NS Display Condensed           Devanagari MT   \n",
       "40                     Marker Felt          .SF NS Symbols   \n",
       "60                      .Aqua Kana          Plantin MT Std   \n",
       "79             .SF Compact Display           Hiragino Sans   \n",
       "94                           Menlo            Trebuchet MS   \n",
       "53                 STIXSizeFourSym               .Keyboard   \n",
       "3                           cmsy10    DejaVu Serif Display   \n",
       "26                          Tahoma                Al Bayan   \n",
       "24                     Copperplate          .SF NS Symbols   \n",
       "22                          Symbol          ITF Devanagari   \n",
       "58                 Kohinoor Telugu          DecoType Naskh   \n",
       "1                     DejaVu Serif             DejaVu Sans   \n",
       "\n",
       "                            3                             4  \n",
       "93        .SF Compact Rounded           Opus Note Names Std  \n",
       "48             Superclarendon           .SF Compact Display  \n",
       "59              Apple Braille                       Verdana  \n",
       "23          Reprise Stamp Std                 Chalkboard SE  \n",
       "69                    Raanana  Opus Figured Bass Extras Std  \n",
       "36          Sinhala Sangam MN         Arial Rounded MT Bold  \n",
       "5                      cmss10              DejaVu Sans Mono  \n",
       "35        Reprise Special Std                       Seravek  \n",
       "86                   Luminari                 Lao Sangam MN  \n",
       "83                  Telugu MN                  Bradley Hand  \n",
       "15                    Kokonor                 Diwan Thuluth  \n",
       "37   .SF NS Display Condensed           .SF Compact Rounded  \n",
       "85               Arial Hebrew            .Arabic UI Display  \n",
       "72          STIXIntegralsUpSm                   STIXGeneral  \n",
       "9                      Optima             Kannada Sangam MN  \n",
       "84              Apple Symbols                     InaiMathi  \n",
       "14                 Diwan Kufi      .SF NS Display Condensed  \n",
       "4                 STIXGeneral                STIXSizeOneSym  \n",
       "13                    Verdana                .SF NS Symbols  \n",
       "25         Inkpen2 Chords Std          Shree Devanagari 714  \n",
       "92       Hiragino Mincho ProN           .SF Compact Rounded  \n",
       "10                Andale Mono         Inkpen2 Metronome Std  \n",
       "51                 Kannada MN           Malayalam Sangam MN  \n",
       "68                      Silom           Aloisen Groove Text  \n",
       "28               STIXVariants                KufiStandardGK  \n",
       "66                  Wingdings                     AvidOmnes  \n",
       "6              STIXSizeOneSym                        cmtt10  \n",
       "7             STIXSizeFourSym                   DejaVu Sans  \n",
       "80  Opus Function Symbols Std              Hiragino Sans GB  \n",
       "46                 Big Caslon                     Bodoni 72  \n",
       "47                System Font                      Rockwell  \n",
       "90                   Opus Std                New Peninim MT  \n",
       "29            Oriya Sangam MN                   Gurmukhi MT  \n",
       "75         Noto Nastaliq Urdu              Bodoni Ornaments  \n",
       "52             .SF NS Symbols                      Oriya MN  \n",
       "76        .SF Compact Display                       Kailasa  \n",
       "41               STIXVariants                   System Font  \n",
       "39               Malayalam MN                    Savoye LET  \n",
       "81              Comic Sans MS                      Tamil MN  \n",
       "40        Opus Percussion Std                    Sinhala MN  \n",
       "60                     Waseem                          Skia  \n",
       "79         Gurmukhi Sangam MN                        Farisi  \n",
       "94          Helsinki Text Std               Tamil Sangam MN  \n",
       "53                System Font                       Georgia  \n",
       "3                      cmex10           DejaVu Sans Display  \n",
       "26         Opus Metronome Std               .Arabic UI Text  \n",
       "24            Times New Roman                      Heiti TC  \n",
       "22           .SF Compact Text         .SF NS Text Condensed  \n",
       "58        .SF Compact Rounded                STIXNonUnicode  \n",
       "1              STIXNonUnicode                  DejaVu Serif  "
      ]
     },
     "execution_count": 2,
     "metadata": {},
     "output_type": "execute_result"
    }
   ],
   "source": [
    "# 查看有什么字体\n",
    "from matplotlib.font_manager import FontManager\n",
    "fm = FontManager()\n",
    "mat_fonts = list(f.name for f in fm.ttflist)\n",
    "npfont= np.array(mat_fonts)\n",
    "# npfont=np.insert(npfont,0,[1,1],0)  # 网友鸿鹄意见:插入陌生元素补齐\n",
    "b=np.empty(2,dtype = np.uint8)        # 牧码人老师意见:生成列表\n",
    "npfont=np.hstack((npfont,b)).reshape((-1,4)) #然后hstack\n",
    "# npfont=npfont.reshape((-1,4))\n",
    "data = pd.DataFrame(npfont,columns=[1,2,3,4])\n",
    "data.sample(50)"
   ]
  },
  {
   "cell_type": "code",
   "execution_count": 3,
   "metadata": {},
   "outputs": [],
   "source": [
    "sns.set(style='darkgrid')\n",
    "plt.rcParams['font.family']='Arial Unicode MS'\n",
    "plt.rcParams['axes.unicode_minus']=False\n",
    "warnings.filterwarnings('ignore')"
   ]
  },
  {
   "cell_type": "code",
   "execution_count": 4,
   "metadata": {},
   "outputs": [
    {
     "data": {
      "text/plain": [
       "array([[5.1, 3.5, 1.4, 0.2],\n",
       "       [4.9, 3. , 1.4, 0.2],\n",
       "       [4.7, 3.2, 1.3, 0.2],\n",
       "       [4.6, 3.1, 1.5, 0.2],\n",
       "       [5. , 3.6, 1.4, 0.2],\n",
       "       [5.4, 3.9, 1.7, 0.4],\n",
       "       [4.6, 3.4, 1.4, 0.3],\n",
       "       [5. , 3.4, 1.5, 0.2],\n",
       "       [4.4, 2.9, 1.4, 0.2],\n",
       "       [4.9, 3.1, 1.5, 0.1]])"
      ]
     },
     "metadata": {},
     "output_type": "display_data"
    },
    {
     "data": {
      "text/plain": [
       "array([0, 0, 0, 0, 0, 0, 0, 0, 0, 0])"
      ]
     },
     "metadata": {},
     "output_type": "display_data"
    },
    {
     "data": {
      "text/plain": [
       "['sepal length (cm)',\n",
       " 'sepal width (cm)',\n",
       " 'petal length (cm)',\n",
       " 'petal width (cm)']"
      ]
     },
     "metadata": {},
     "output_type": "display_data"
    },
    {
     "data": {
      "text/plain": [
       "array(['setosa', 'versicolor', 'virginica'], dtype='<U10')"
      ]
     },
     "metadata": {},
     "output_type": "display_data"
    }
   ],
   "source": [
    "# 加载鸢尾花数据集\n",
    "iris =load_iris()\n",
    "# display(iris)\n",
    "display(iris.data[:10],iris.target[:10])\n",
    "display(iris.feature_names,iris.target_names)"
   ]
  },
  {
   "cell_type": "code",
   "execution_count": 5,
   "metadata": {},
   "outputs": [
    {
     "data": {
      "text/html": [
       "<div>\n",
       "<style scoped>\n",
       "    .dataframe tbody tr th:only-of-type {\n",
       "        vertical-align: middle;\n",
       "    }\n",
       "\n",
       "    .dataframe tbody tr th {\n",
       "        vertical-align: top;\n",
       "    }\n",
       "\n",
       "    .dataframe thead th {\n",
       "        text-align: right;\n",
       "    }\n",
       "</style>\n",
       "<table border=\"1\" class=\"dataframe\">\n",
       "  <thead>\n",
       "    <tr style=\"text-align: right;\">\n",
       "      <th></th>\n",
       "      <th>sepal_length</th>\n",
       "      <th>sepal_width</th>\n",
       "      <th>petal_length</th>\n",
       "      <th>petal_width</th>\n",
       "      <th>type</th>\n",
       "    </tr>\n",
       "  </thead>\n",
       "  <tbody>\n",
       "    <tr>\n",
       "      <td>115</td>\n",
       "      <td>6.4</td>\n",
       "      <td>3.2</td>\n",
       "      <td>5.3</td>\n",
       "      <td>2.3</td>\n",
       "      <td>2.0</td>\n",
       "    </tr>\n",
       "    <tr>\n",
       "      <td>106</td>\n",
       "      <td>4.9</td>\n",
       "      <td>2.5</td>\n",
       "      <td>4.5</td>\n",
       "      <td>1.7</td>\n",
       "      <td>2.0</td>\n",
       "    </tr>\n",
       "    <tr>\n",
       "      <td>95</td>\n",
       "      <td>5.7</td>\n",
       "      <td>3.0</td>\n",
       "      <td>4.2</td>\n",
       "      <td>1.2</td>\n",
       "      <td>1.0</td>\n",
       "    </tr>\n",
       "    <tr>\n",
       "      <td>123</td>\n",
       "      <td>6.3</td>\n",
       "      <td>2.7</td>\n",
       "      <td>4.9</td>\n",
       "      <td>1.8</td>\n",
       "      <td>2.0</td>\n",
       "    </tr>\n",
       "    <tr>\n",
       "      <td>92</td>\n",
       "      <td>5.8</td>\n",
       "      <td>2.6</td>\n",
       "      <td>4.0</td>\n",
       "      <td>1.2</td>\n",
       "      <td>1.0</td>\n",
       "    </tr>\n",
       "    <tr>\n",
       "      <td>35</td>\n",
       "      <td>5.0</td>\n",
       "      <td>3.2</td>\n",
       "      <td>1.2</td>\n",
       "      <td>0.2</td>\n",
       "      <td>0.0</td>\n",
       "    </tr>\n",
       "    <tr>\n",
       "      <td>26</td>\n",
       "      <td>5.0</td>\n",
       "      <td>3.4</td>\n",
       "      <td>1.6</td>\n",
       "      <td>0.4</td>\n",
       "      <td>0.0</td>\n",
       "    </tr>\n",
       "    <tr>\n",
       "      <td>74</td>\n",
       "      <td>6.4</td>\n",
       "      <td>2.9</td>\n",
       "      <td>4.3</td>\n",
       "      <td>1.3</td>\n",
       "      <td>1.0</td>\n",
       "    </tr>\n",
       "    <tr>\n",
       "      <td>75</td>\n",
       "      <td>6.6</td>\n",
       "      <td>3.0</td>\n",
       "      <td>4.4</td>\n",
       "      <td>1.4</td>\n",
       "      <td>1.0</td>\n",
       "    </tr>\n",
       "    <tr>\n",
       "      <td>38</td>\n",
       "      <td>4.4</td>\n",
       "      <td>3.0</td>\n",
       "      <td>1.3</td>\n",
       "      <td>0.2</td>\n",
       "      <td>0.0</td>\n",
       "    </tr>\n",
       "  </tbody>\n",
       "</table>\n",
       "</div>"
      ],
      "text/plain": [
       "     sepal_length  sepal_width  petal_length  petal_width  type\n",
       "115           6.4          3.2           5.3          2.3   2.0\n",
       "106           4.9          2.5           4.5          1.7   2.0\n",
       "95            5.7          3.0           4.2          1.2   1.0\n",
       "123           6.3          2.7           4.9          1.8   2.0\n",
       "92            5.8          2.6           4.0          1.2   1.0\n",
       "35            5.0          3.2           1.2          0.2   0.0\n",
       "26            5.0          3.4           1.6          0.4   0.0\n",
       "74            6.4          2.9           4.3          1.3   1.0\n",
       "75            6.6          3.0           4.4          1.4   1.0\n",
       "38            4.4          3.0           1.3          0.2   0.0"
      ]
     },
     "execution_count": 5,
     "metadata": {},
     "output_type": "execute_result"
    }
   ],
   "source": [
    "# 将鸢尾花数据与对应的类型合并,组合成完整记录(-1,1 的-1是任意行的意思)\n",
    "data = np.concatenate([iris.data,iris.target.reshape(-1,1)],axis=1)\n",
    "data = pd.DataFrame(data,columns=['sepal_length','sepal_width','petal_length','petal_width','type'])\n",
    "data.sample(10)"
   ]
  },
  {
   "cell_type": "code",
   "execution_count": 30,
   "metadata": {},
   "outputs": [
    {
     "data": {
      "text/plain": [
       "2.0    50\n",
       "1.0    50\n",
       "0.0    50\n",
       "Name: type, dtype: int64"
      ]
     },
     "metadata": {},
     "output_type": "display_data"
    },
    {
     "data": {
      "text/plain": [
       "2.0    33.333333\n",
       "1.0    33.333333\n",
       "0.0    33.333333\n",
       "Name: type, dtype: float64"
      ]
     },
     "metadata": {},
     "output_type": "display_data"
    }
   ],
   "source": [
    "# 我们以type类型列为例子,计算频数频率\n",
    "frequency = data[\"type\"].value_counts()\n",
    "display(frequency)\n",
    "# 计算频率,用%表示\n",
    "percentage= frequency*100 / len(data)\n",
    "display(percentage)"
   ]
  },
  {
   "cell_type": "markdown",
   "metadata": {},
   "source": [
    "\n"
   ]
  },
  {
   "cell_type": "code",
   "execution_count": 7,
   "metadata": {},
   "outputs": [
    {
     "data": {
      "text/plain": [
       "<matplotlib.axes._subplots.AxesSubplot at 0x1a10803e10>"
      ]
     },
     "execution_count": 7,
     "metadata": {},
     "output_type": "execute_result"
    },
    {
     "data": {
      "image/png": "[encoded data removed]",
      "text/plain": [
       "<Figure size 432x288 with 1 Axes>"
      ]
     },
     "metadata": {},
     "output_type": "display_data"
    }
   ],
   "source": [
    "# 来展示一下\n",
    "# frequency.plot(kind='pie')\n",
    "frequency.plot(kind='bar')"
   ]
  },
  {
   "cell_type": "markdown",
   "metadata": {},
   "source": [
    "我们以花萼长度(sepal_length)为例,计算均值\\中位数\\众数"
   ]
  },
  {
   "cell_type": "code",
   "execution_count": 8,
   "metadata": {},
   "outputs": [
    {
     "data": {
      "text/plain": [
       "5.843333333333335"
      ]
     },
     "metadata": {},
     "output_type": "display_data"
    },
    {
     "data": {
      "text/plain": [
       "5.8"
      ]
     },
     "metadata": {},
     "output_type": "display_data"
    },
    {
     "data": {
      "text/plain": [
       "5.0"
      ]
     },
     "metadata": {},
     "output_type": "display_data"
    }
   ],
   "source": [
    "# 计算花萼长度均值\n",
    "mean= data['sepal_length'].mean()\n",
    "# 计算花萼长度中位数\n",
    "median = data['sepal_length'].median()\n",
    "# 计算花萼长度众数\n",
    "s = data['sepal_length'].value_counts()\n",
    "mode = s.index[0]\n",
    "display(mean,median,mode)"
   ]
  },
  {
   "cell_type": "markdown",
   "metadata": {},
   "source": [
    "我们也可用scipy中stats模块来求一组数据众数"
   ]
  },
  {
   "cell_type": "code",
   "execution_count": 9,
   "metadata": {},
   "outputs": [
    {
     "data": {
      "text/plain": [
       "array([5.])"
      ]
     },
     "execution_count": 9,
     "metadata": {},
     "output_type": "execute_result"
    }
   ],
   "source": [
    "from scipy import stats\n",
    "stats.mode(data['sepal_length']).mode"
   ]
  },
  {
   "cell_type": "markdown",
   "metadata": {},
   "source": [
    "鸢尾花的花萼长度列,均值与中值几乎相等,我们猜想,数据应该是对称分布的,所以看看"
   ]
  },
  {
   "cell_type": "code",
   "execution_count": 10,
   "metadata": {},
   "outputs": [
    {
     "data": {
      "text/plain": [
       "<matplotlib.legend.Legend at 0x1a10b64d90>"
      ]
     },
     "execution_count": 10,
     "metadata": {},
     "output_type": "execute_result"
    },
    {
     "data": {
      "image/png": "[encoded data removed]",
      "text/plain": [
       "<Figure size 432x288 with 1 Axes>"
      ]
     },
     "metadata": {},
     "output_type": "display_data"
    }
   ],
   "source": [
    "sns.distplot(data['sepal_length'])\n",
    "plt.axvline(mean, ls='-',color='red',label='均值')\n",
    "plt.axvline(median, ls='-',color='green',label='中值')\n",
    "plt.axvline(mode, ls='-',color='indigo',label='众数')\n",
    "plt.legend()"
   ]
  },
  {
   "cell_type": "markdown",
   "metadata": {},
   "source": [
    "分位数"
   ]
  },
  {
   "cell_type": "code",
   "execution_count": 11,
   "metadata": {},
   "outputs": [
    {
     "name": "stdout",
     "output_type": "stream",
     "text": [
      "3.0 5.0 7.0\n"
     ]
    }
   ],
   "source": [
    "x=np.arange(10,19)\n",
    "n=len(x)\n",
    "q1_index=1+(n-1)*0.25\n",
    "q2_index=1+(n-1)*0.50\n",
    "q3_index=1+(n-1)*0.75\n",
    "print( q1_index,q2_index,q3_index)"
   ]
  },
  {
   "cell_type": "markdown",
   "metadata": {},
   "source": [
    "拿上边的数当做索引位置,进行数据索引"
   ]
  },
  {
   "cell_type": "code",
   "execution_count": 12,
   "metadata": {},
   "outputs": [
    {
     "data": {
      "text/plain": [
       "array([12, 14, 16])"
      ]
     },
     "metadata": {},
     "output_type": "display_data"
    }
   ],
   "source": [
    "index= np.array([q1_index,q2_index,q3_index]).astype(np.int32)\n",
    "index -=1\n",
    "display(x[index])"
   ]
  },
  {
   "cell_type": "code",
   "execution_count": 13,
   "metadata": {},
   "outputs": [
    {
     "data": {
      "text/plain": [
       "<matplotlib.legend.Legend at 0x1a10ba4110>"
      ]
     },
     "execution_count": 13,
     "metadata": {},
     "output_type": "execute_result"
    },
    {
     "data": {
      "image/png": "[encoded data removed]",
      "text/plain": [
       "<Figure size 1080x288 with 1 Axes>"
      ]
     },
     "metadata": {},
     "output_type": "display_data"
    }
   ],
   "source": [
    "plt.figure(figsize=(15,4))\n",
    "plt.xticks(x)\n",
    "plt.plot(x       ,np.zeros(len(x))    ,ls='',marker='D',ms=10, label= '元素值')\n",
    "plt.plot(x[index],np.zeros(len(index)),ls='',marker='o',ms=10, label='四分位值')\n",
    "for v in x[index]:\n",
    "    plt.text(v,0.01 ,s=v , fontsize=15)\n",
    "plt.legend()"
   ]
  },
  {
   "cell_type": "markdown",
   "metadata": {},
   "source": [
    "index不是整数的情况\n",
    "当index不是整数的时候,我们使用最近位置的两个数,来加权计算得到四分卫位置,每个整数的权重为距离的反比"
   ]
  },
  {
   "cell_type": "code",
   "execution_count": 14,
   "metadata": {},
   "outputs": [
    {
     "name": "stdout",
     "output_type": "stream",
     "text": [
      "3.25 5.5 7.75\n"
     ]
    }
   ],
   "source": [
    "x = np.arange(10,20)\n",
    "n = len(x)\n",
    "q1_index=1+(n-1)*0.25\n",
    "q2_index=1+(n-1)*0.50\n",
    "q3_index=1+(n-1)*0.75\n",
    "print( q1_index,q2_index,q3_index)"
   ]
  },
  {
   "cell_type": "markdown",
   "metadata": {},
   "source": [
    "计算结果不是整数,我们使用该值临近的两个整数来计算四分位值"
   ]
  },
  {
   "cell_type": "code",
   "execution_count": 15,
   "metadata": {},
   "outputs": [
    {
     "data": {
      "text/plain": [
       "array([12.25, 14.5 , 16.75])"
      ]
     },
     "metadata": {},
     "output_type": "display_data"
    }
   ],
   "source": [
    "index= np.array([q1_index,q2_index,q3_index])\n",
    "left  = np.floor(index).astype(np.int32)-1\n",
    "right = np.ceil(index).astype(np.int32)-1\n",
    "weight,_ = np.modf(index)\n",
    "# np.modf(index)\n",
    "q= x[left]*(1-weight)+ x[right]*weight\n",
    "display(q)"
   ]
  },
  {
   "cell_type": "code",
   "execution_count": 16,
   "metadata": {},
   "outputs": [
    {
     "data": {
      "text/plain": [
       "<matplotlib.legend.Legend at 0x1a12cbb9d0>"
      ]
     },
     "execution_count": 16,
     "metadata": {},
     "output_type": "execute_result"
    },
    {
     "data": {
      "image/png": "[encoded data removed]",
      "text/plain": [
       "<Figure size 1080x288 with 1 Axes>"
      ]
     },
     "metadata": {},
     "output_type": "display_data"
    }
   ],
   "source": [
    "plt.figure(figsize=(15,4))\n",
    "plt.xticks(x)\n",
    "plt.plot(x,np.zeros(len(x)),ls='',marker='D',ms=10, label= '元素值')\n",
    "plt.plot(q,np.zeros(len(q)),ls='',marker='o',ms=10, label='四分位值')\n",
    "for v in q:\n",
    "    plt.text(v,0.01 ,s=v , fontsize=15)\n",
    "plt.legend()"
   ]
  },
  {
   "cell_type": "markdown",
   "metadata": {},
   "source": [
    "### Numpy 和Pandas都提供了分位数计算方法,上边是自己造轮子方法,下边调用API"
   ]
  },
  {
   "cell_type": "markdown",
   "metadata": {},
   "source": [
    "Numpy中的方法"
   ]
  },
  {
   "cell_type": "code",
   "execution_count": 17,
   "metadata": {
    "scrolled": false
   },
   "outputs": [
    {
     "name": "stdout",
     "output_type": "stream",
     "text": [
      "[10. 18. 21.]\n",
      "[ 8.25 16.5  20.75]\n"
     ]
    }
   ],
   "source": [
    "# Numpy 法\n",
    "x= [1,3,10,15,18,20,21,33,40]\n",
    "print(np.quantile(x,[0.25,0.5,0.75]))\n",
    "x= [1,3,10,15,18,20,23,40]\n",
    "print(np.quantile(x,[0.25,0.5,0.75]))"
   ]
  },
  {
   "cell_type": "markdown",
   "metadata": {},
   "source": [
    "Pandas中的方法"
   ]
  },
  {
   "cell_type": "code",
   "execution_count": 18,
   "metadata": {},
   "outputs": [
    {
     "data": {
      "text/plain": [
       "count     9.000000\n",
       "mean     17.888889\n",
       "std      12.791056\n",
       "min       1.000000\n",
       "25%      10.000000\n",
       "50%      18.000000\n",
       "75%      21.000000\n",
       "max      40.000000\n",
       "dtype: float64"
      ]
     },
     "metadata": {},
     "output_type": "display_data"
    },
    {
     "data": {
      "text/plain": [
       "count     8.000000\n",
       "mean     16.250000\n",
       "std      12.395276\n",
       "min       1.000000\n",
       "25%       8.250000\n",
       "50%      16.500000\n",
       "75%      20.750000\n",
       "max      40.000000\n",
       "dtype: float64"
      ]
     },
     "metadata": {},
     "output_type": "display_data"
    }
   ],
   "source": [
    "x= [1,3,10,15,18,20,21,33,40]\n",
    "s=pd.Series(x)\n",
    "display(s.describe())\n",
    "\n",
    "x= [1,3,10,15,18,20,23,40]\n",
    "s=pd.Series(x)\n",
    "display(s.describe())"
   ]
  },
  {
   "cell_type": "code",
   "execution_count": 19,
   "metadata": {},
   "outputs": [
    {
     "data": {
      "text/plain": [
       "8.25"
      ]
     },
     "execution_count": 19,
     "metadata": {},
     "output_type": "execute_result"
    }
   ],
   "source": [
    "warnings.filterwarnings('default')\n",
    "type(s.describe())\n",
    "s.describe()['25%']   #方法1\n",
    "# s.describe()[4]       #方法2\n",
    "# s.describe().iloc[4]  #方法3\n",
    "# s.describe().loc['25%']  #方法4\n",
    "# s.describe().ix[4]  #方法5\n",
    "# s.describe().ix['25%']  #方法5"
   ]
  },
  {
   "cell_type": "markdown",
   "metadata": {},
   "source": [
    "默认情况下,describe方法将会统计四分位值,我们可以通过percentiles参数自定义需要统计的分位,如下"
   ]
  },
  {
   "cell_type": "code",
   "execution_count": 20,
   "metadata": {},
   "outputs": [
    {
     "data": {
      "text/plain": [
       "count     8.000000\n",
       "mean     16.250000\n",
       "std      12.395276\n",
       "min       1.000000\n",
       "15%       3.350000\n",
       "22%       6.780000\n",
       "33%      11.550000\n",
       "50%      16.500000\n",
       "60%      18.400000\n",
       "90%      28.100000\n",
       "max      40.000000\n",
       "dtype: float64"
      ]
     },
     "execution_count": 20,
     "metadata": {},
     "output_type": "execute_result"
    }
   ],
   "source": [
    "s.describe(percentiles=[0.15,0.22,0.33,0.6,0.9])"
   ]
  },
  {
   "cell_type": "markdown",
   "metadata": {},
   "source": [
    "花萼长度为例 极差\\方差\\标准差"
   ]
  },
  {
   "cell_type": "code",
   "execution_count": 21,
   "metadata": {},
   "outputs": [
    {
     "name": "stdout",
     "output_type": "stream",
     "text": [
      "3.6000000000000005 0.6856935123042505 0.8280661279778629\n"
     ]
    }
   ],
   "source": [
    "# 计算极差\n",
    "sub = data ['sepal_length'].max()-data ['sepal_length'].min()\n",
    "# 计算方差\n",
    "var = data['sepal_length'].var()\n",
    "# 计算标准差\n",
    "std = data['sepal_length'].std()\n",
    "print(sub,var,std)"
   ]
  },
  {
   "cell_type": "markdown",
   "metadata": {},
   "source": [
    "鸢尾花数据中,花瓣长度方差较大,花瓣宽度方差较小,我们可以绘图进行一下对比."
   ]
  },
  {
   "cell_type": "code",
   "execution_count": 22,
   "metadata": {},
   "outputs": [
    {
     "data": {
      "image/png": "[encoded data removed]",
      "text/plain": [
       "<Figure size 1080x288 with 1 Axes>"
      ]
     },
     "metadata": {},
     "output_type": "display_data"
    }
   ],
   "source": [
    "plt.figure(figsize=(15,4))\n",
    "plt.ylim(-0.5,1.5)\n",
    "plt.plot(data['petal_length'],np.zeros(len(data)),ls='',marker='o',ms=10 , color='g',label='花瓣长度')\n",
    "plt.plot(data['petal_width'] ,np.zeros(len(data)),ls='',marker='o',ms=10 , color='r',label='花瓣宽度')\n",
    "plt.axvline(data['petal_length'].mean(),ls='--',color='g', label='花瓣长度均值')\n",
    "plt.axvline(data['petal_width'].mean(),ls='--',color='r', label='花瓣宽度均值')\n",
    "plt.legend()\n",
    "plt.show()"
   ]
  },
  {
   "cell_type": "code",
   "execution_count": 23,
   "metadata": {},
   "outputs": [
    {
     "name": "stdout",
     "output_type": "stream",
     "text": [
      "-0.982896874295791 0.9411493904324898\n"
     ]
    },
    {
     "data": {
      "text/plain": [
       "<matplotlib.legend.Legend at 0x1a12f96810>"
      ]
     },
     "execution_count": 23,
     "metadata": {},
     "output_type": "execute_result"
    },
    {
     "data": {
      "image/png": "[encoded data removed]",
      "text/plain": [
       "<Figure size 432x288 with 1 Axes>"
      ]
     },
     "metadata": {},
     "output_type": "display_data"
    }
   ],
   "source": [
    "# 构造左偏分布数据\n",
    "t1 = np.random.randint(1,11, size=100)\n",
    "t2 = np.random.randint(11,21, size=500)\n",
    "t3 = np.concatenate([t1,t2])\n",
    "left_skew = pd.Series(t3)\n",
    "# 构造右偏分布数据\n",
    "t1 = np.random.randint(1,11, size=500)\n",
    "t2 = np.random.randint(11,21, size=100)\n",
    "t3 = np.concatenate([t1,t2])\n",
    "right_skew = pd.Series(t3)\n",
    "print(left_skew.skew(),right_skew.skew())\n",
    "sns.kdeplot(left_skew,shade=True ,label='左偏')\n",
    "sns.kdeplot(right_skew,shade=True ,label='右偏')\n",
    "plt.legend()"
   ]
  },
  {
   "cell_type": "code",
   "execution_count": 24,
   "metadata": {
    "scrolled": true
   },
   "outputs": [
    {
     "name": "stdout",
     "output_type": "stream",
     "text": [
      "标准正态分布峰度: -0.08372434518245875 标准差: 0.9985402302798879\n",
      "花萼宽度峰度: 0.2282490424681929 标准差: 0.435866284936698\n",
      "花瓣长度峰度: -0.5520640413156395 标准差: 0.8280661279778629\n"
     ]
    },
    {
     "data": {
      "text/plain": [
       "<matplotlib.axes._subplots.AxesSubplot at 0x1a130eca10>"
      ]
     },
     "execution_count": 24,
     "metadata": {},
     "output_type": "execute_result"
    },
    {
     "data": {
      "image/png": "[encoded data removed]",
      "text/plain": [
       "<Figure size 432x288 with 1 Axes>"
      ]
     },
     "metadata": {},
     "output_type": "display_data"
    }
   ],
   "source": [
    "# 标准正态分布\n",
    "standard_normal=pd.Series(np.random.normal(0,1,size=1000))\n",
    "print('标准正态分布峰度:',standard_normal.kurt(),'标准差:',standard_normal.std())\n",
    "print('花萼宽度峰度:',data['sepal_width'].kurt(),'标准差:',data['sepal_width'].std())\n",
    "print('花瓣长度峰度:',data['sepal_length'].kurt(),'标准差:',data['sepal_length'].std())\n",
    "sns.kdeplot(standard_normal, label='标准正态分布')\n",
    "sns.kdeplot(data['sepal_width'], label='花萼宽度分布')\n",
    "sns.kdeplot(data['sepal_length'], label='花萼长度分布')\n"
   ]
  },
  {
   "cell_type": "markdown",
   "metadata": {},
   "source": [
    "# 推断统计分析"
   ]
  },
  {
   "cell_type": "code",
   "execution_count": 25,
   "metadata": {},
   "outputs": [
    {
     "name": "stdout",
     "output_type": "stream",
     "text": [
      "样本均值: 30.23052559148436\n",
      "样本标准差: 10.012256047767597\n",
      "偏度: 0.0041742306807772385\n"
     ]
    },
    {
     "data": {
      "text/plain": [
       "<matplotlib.axes._subplots.AxesSubplot at 0x1a131e2ad0>"
      ]
     },
     "execution_count": 25,
     "metadata": {},
     "output_type": "execute_result"
    },
    {
     "data": {
      "image/png": "[encoded data removed]",
      "text/plain": [
       "<Figure size 432x288 with 1 Axes>"
      ]
     },
     "metadata": {},
     "output_type": "display_data"
    }
   ],
   "source": [
    "#  定义总体数据\n",
    "all_ = np.random.normal(loc=30, scale=80 , size=10000)\n",
    "# 创建均值数组\n",
    "mean_arr = np.zeros(5000)\n",
    "for i in range(len(mean_arr)):\n",
    "    mean_arr[i]=np.random.choice(all_,size=64, replace=False).mean()\n",
    "print('样本均值:', mean_arr.mean())\n",
    "print('样本标准差:', mean_arr.std())\n",
    "print('偏度:', pd.Series(mean_arr).skew())\n",
    "sns.distplot(mean_arr)"
   ]
  },
  {
   "cell_type": "code",
   "execution_count": 26,
   "metadata": {},
   "outputs": [
    {
     "name": "stdout",
     "output_type": "stream",
     "text": [
      "1倍标准差: 68.047%\n",
      "2倍标准差: 95.492%\n",
      "3倍标准差: 99.751%\n"
     ]
    }
   ],
   "source": [
    "# 定义标准差\n",
    "scale=50\n",
    "# 定义数据\n",
    "x = np.random.normal(0,scale , size=100000)\n",
    "\n",
    "# 定义标准差的倍数,倍数从1到3\n",
    "for times in range(1,4):\n",
    "    y=x[(x >= -times*scale)& (x<= times*scale)]\n",
    "    print(f'{times}倍标准差:',end=' ')\n",
    "    print(f'{len(y)*100/len(x)}%')"
   ]
  },
  {
   "cell_type": "code",
   "execution_count": 27,
   "metadata": {},
   "outputs": [
    {
     "name": "stdout",
     "output_type": "stream",
     "text": [
      "总体的均值: 2558\n",
      "一次抽样的样本的均值: 2559.974863824316\n",
      "置信区间(95%置信度): (2543.343712330808, 2576.6060153178237)\n"
     ]
    },
    {
     "data": {
      "image/png": "[encoded data removed]",
      "text/plain": [
       "<Figure size 432x288 with 1 Axes>"
      ]
     },
     "metadata": {},
     "output_type": "display_data"
    }
   ],
   "source": [
    "# 使用随机数生成总体均值,其值位置\n",
    "mean= np.random.randint(-10000,10000)\n",
    "# 定义总体标准差\n",
    "std = 60\n",
    "# 定义样本容量\n",
    "n = 50\n",
    "all_ = np.random.normal(loc = mean , scale = std , size =10000)\n",
    "sample = np.random.choice(all_,size = n ,replace = False)\n",
    "sample_mean = sample.mean()\n",
    "print('总体的均值:', mean)\n",
    "print('一次抽样的样本的均值:', sample_mean)\n",
    "\n",
    "plt.plot(mean ,         0 , marker='*', color = 'orange',ms=15)\n",
    "plt.plot(sample_mean ,  0 , marker='o', color='r'       ,ms=10)\n",
    "# 计算标准误差\n",
    "se= std/np.sqrt(n)   # np开方的方法\n",
    "min_ = sample_mean-1.96*se\n",
    "max_ = sample_mean + 1.96 *se\n",
    "print('置信区间(95%置信度):', (min_,max_))\n",
    "plt.xlim(sample_mean-20 ,sample_mean+20)\n",
    "plt.hlines(0,xmin=min_ ,xmax= max_,colors='b',label='置信区间')\n",
    "plt.axvline(min_,0.4,0.6,color='r',ls='--',label='左边界')\n",
    "plt.axvline(max_,0.4,0.6,color='g',ls='--',label='右边界')\n",
    "plt.legend()\n",
    "plt.show()"
   ]
  },
  {
   "cell_type": "code",
   "execution_count": 28,
   "metadata": {},
   "outputs": [
    {
     "data": {
      "text/plain": [
       "3.7580000000000027"
      ]
     },
     "execution_count": 28,
     "metadata": {},
     "output_type": "execute_result"
    }
   ],
   "source": [
    "# 鸢尾花平均花瓣长度3.5cm 这种说法可靠吗?\n",
    "data['petal_length'].mean()"
   ]
  },
  {
   "cell_type": "code",
   "execution_count": 29,
   "metadata": {
    "scrolled": true
   },
   "outputs": [
    {
     "name": "stdout",
     "output_type": "stream",
     "text": [
      "1.7554676489946293\n"
     ]
    }
   ],
   "source": [
    "mean=data['petal_length'].mean()\n",
    "n=len(data)\n",
    "sigma=1.8\n",
    "z=(mean-3.5)/(1.8/np.sqrt(n))\n",
    "print(z)"
   ]
  },
  {
   "cell_type": "markdown",
   "metadata": {},
   "source": [
    "# 线性回归"
   ]
  },
  {
   "cell_type": "code",
   "execution_count": 1,
   "metadata": {},
   "outputs": [
    {
     "name": "stdout",
     "output_type": "stream",
     "text": [
      "权重: [0.42]\n",
      "截距: -0.3705841202176683\n",
      "实际值: [2.4 1.  0.2 1.8 0.2]\n",
      "预测值: [1.77 1.31 0.22 2.27 0.26]\n"
     ]
    }
   ],
   "source": [
    "import numpy as np\n",
    "# 用于线性回归的类\n",
    "from sklearn.linear_model import LinearRegression\n",
    "# 用来切分训练集与测试集\n",
    "from sklearn.model_selection import train_test_split\n",
    "from sklearn.datasets import load_iris\n",
    "# 设置输出的精度,默认为8\n",
    "np.set_printoptions(precision=2)\n",
    "\n",
    "iris=load_iris()\n",
    "# 获取花瓣长度作为X,花瓣宽度作为Y\n",
    "X ,y=iris.data[:,2].reshape(-1,1), iris.data[:,3]\n",
    "lr = LinearRegression()\n",
    "X_train ,X_test, y_train , y_test = train_test_split(X,y,test_size=0.25, random_state=0)\n",
    "lr.fit(X_train, y_train)\n",
    "print('权重:',lr.coef_)\n",
    "print('截距:',lr.intercept_)\n",
    "# 从训练集学习到了模型参数(w与b),确定方程,就可以进行预测\n",
    "y_hat=lr.predict(X_test)\n",
    "print('实际值:',y_test[:5])\n",
    "print('预测值:',y_hat[:5])"
   ]
  },
  {
   "cell_type": "code",
   "execution_count": 3,
   "metadata": {},
   "outputs": [
    {
     "data": {
      "image/png": "[encoded data removed]",
      "text/plain": [
       "<Figure size 720x432 with 1 Axes>"
      ]
     },
     "metadata": {
      "needs_background": "light"
     },
     "output_type": "display_data"
    }
   ],
   "source": [
    "import matplotlib.pyplot as plt\n",
    "\n",
    "plt.rcParams['font.family']='Arial Unicode MS'\n",
    "plt.rcParams['axes.unicode_minus']=False\n",
    "plt.rcParams['font.size']=15\n",
    "\n",
    "plt.figure(figsize=(10,6))\n",
    "plt.scatter(X_train,y_train,c='orange',label='训练集')\n",
    "plt.scatter(X_test,y_test, c='g',marker='D',label='测试集')\n",
    "plt.plot(X,lr.predict(X),'r-')\n",
    "plt.legend()\n",
    "plt.xlabel('花瓣长度')\n",
    "plt.ylabel('花瓣宽度')\n",
    "plt.show()"
   ]
  },
  {
   "cell_type": "code",
   "execution_count": 10,
   "metadata": {},
   "outputs": [
    {
     "data": {
      "image/png": "[encoded data removed]",
      "text/plain": [
       "<Figure size 1080x432 with 1 Axes>"
      ]
     },
     "metadata": {
      "needs_background": "light"
     },
     "output_type": "display_data"
    }
   ],
   "source": [
    "plt.figure(figsize=(15,6))\n",
    "plt.plot(y_test,label='真实值' , color='r',marker='o')\n",
    "plt.plot(y_hat ,label='预测值' ,ls='--',color='g',marker='o')\n",
    "plt.xlabel('测试集数据序号')\n",
    "plt.ylabel('数据值')\n",
    "plt.legend()\n",
    "plt.show()"
   ]
  },
  {
   "cell_type": "code",
   "execution_count": 13,
   "metadata": {},
   "outputs": [
    {
     "name": "stdout",
     "output_type": "stream",
     "text": [
      "均方误差(MSE):     0.05212862079193859\n",
      "根均方误差(RMSE):  0.2283169305854005\n",
      "平均绝对值误差(MAE) 0.1673599103556632\n",
      "训练集R^2 :        0.9358824215964661\n",
      "测试集R^2 :        0.8931453922584154\n",
      "训练接R^2 :        0.9358824215964661\n",
      "测试集R^2 :        0.8931453922584154\n"
     ]
    }
   ],
   "source": [
    "from sklearn.metrics import mean_squared_error , mean_absolute_error , r2_score\n",
    "\n",
    "print('均方误差(MSE):    ',mean_squared_error(y_test,y_hat))\n",
    "print('根均方误差(RMSE): ',np.sqrt(mean_squared_error(y_test,y_hat)))\n",
    "print('平均绝对值误差(MAE)',mean_absolute_error(y_test,y_hat))\n",
    "print('训练集R^2 :       ',r2_score(y_train, lr.predict(X_train)))\n",
    "print('测试集R^2 :       ',r2_score(y_test , y_hat))\n",
    "# socre其实求解的就是 r^2 的值,但是注意,r2_score方法与score方法传递的参数内容是不同的 \n",
    "print('训练接R^2 :       ',lr.score(X_train,y_train))\n",
    "print('测试集R^2 :       ',lr.score(X_test ,y_test))"
   ]
  },
  {
   "cell_type": "markdown",
   "metadata": {},
   "source": [
    "### 多元线性回归\n"
   ]
  },
  {
   "cell_type": "code",
   "execution_count": 90,
   "metadata": {},
   "outputs": [
    {
     "name": "stdout",
     "output_type": "stream",
     "text": [
      "Type(boston): <class 'sklearn.utils.Bunch'>\n",
      "<class 'numpy.ndarray'> <class 'numpy.ndarray'>\n",
      "6578 506\n",
      ".. _boston_dataset:\n",
      "\n",
      "Boston house prices dataset\n",
      "---------------------------\n",
      "\n",
      "**Data Set Characteristics:**  \n",
      "\n",
      "    :Number of Instances: 506 \n",
      "\n",
      "    :Number of Attributes: 13 numeric/categorical predictive. Median Value (attribute 14) is usually the target.\n",
      "\n",
      "    :Attribute Information (in order):\n",
      "        - CRIM     per capita crime rate by town\n",
      "        - ZN       proportion of residential land zoned for lots over 25,000 sq.ft.\n",
      "        - INDUS    proportion of non-retail business acres per town\n",
      "        - CHAS     Charles River dummy variable (= 1 if tract bounds river; 0 otherwise)\n",
      "        - NOX      nitric oxides concentration (parts per 10 million)\n",
      "        - RM       average number of rooms per dwelling\n",
      "        - AGE      proportion of owner-occupied units built prior to 1940\n",
      "        - DIS      weighted distances to five Boston employment centres\n",
      "        - RAD      index of accessibility to radial highways\n",
      "        - TAX      full-value property-tax rate per $10,000\n",
      "        - PTRATIO  pupil-teacher ratio by town\n",
      "        - B        1000(Bk - 0.63)^2 where Bk is the proportion of blacks by town\n",
      "        - LSTAT    % lower status of the population\n",
      "        - MEDV     Median value of owner-occupied homes in $1000's\n",
      "\n",
      "    :Missing Attribute Values: None\n",
      "\n",
      "    :Creator: Harrison, D. and Rubinfeld, D.L.\n",
      "\n",
      "This is a copy of UCI ML housing dataset.\n",
      "https://archive.ics.uci.edu/ml/machine-learning-databases/housing/\n",
      "\n",
      "\n",
      "This dataset was taken from the StatLib library which is maintained at Carnegie Mellon University.\n",
      "\n",
      "The Boston house-price data of Harrison, D. and Rubinfeld, D.L. 'Hedonic\n",
      "prices and the demand for clean air', J. Environ. Economics & Management,\n",
      "vol.5, 81-102, 1978.   Used in Belsley, Kuh & Welsch, 'Regression diagnostics\n",
      "...', Wiley, 1980.   N.B. Various transformations are used in the table on\n",
      "pages 244-261 of the latter.\n",
      "\n",
      "The Boston house-price data has been used in many machine learning papers that address regression\n",
      "problems.   \n",
      "     \n",
      ".. topic:: References\n",
      "\n",
      "   - Belsley, Kuh & Welsch, 'Regression diagnostics: Identifying Influential Data and Sources of Collinearity', Wiley, 1980. 244-261.\n",
      "   - Quinlan,R. (1993). Combining Instance-Based and Model-Based Learning. In Proceedings on the Tenth International Conference of Machine Learning, 236-243, University of Massachusetts, Amherst. Morgan Kaufmann.\n",
      "\n"
     ]
    },
    {
     "data": {
      "text/html": [
       "<div>\n",
       "<style scoped>\n",
       "    .dataframe tbody tr th:only-of-type {\n",
       "        vertical-align: middle;\n",
       "    }\n",
       "\n",
       "    .dataframe tbody tr th {\n",
       "        vertical-align: top;\n",
       "    }\n",
       "\n",
       "    .dataframe thead th {\n",
       "        text-align: right;\n",
       "    }\n",
       "</style>\n",
       "<table border=\"1\" class=\"dataframe\">\n",
       "  <thead>\n",
       "    <tr style=\"text-align: right;\">\n",
       "      <th></th>\n",
       "      <th>CRIM</th>\n",
       "      <th>ZN</th>\n",
       "      <th>INDUS</th>\n",
       "      <th>CHAS</th>\n",
       "      <th>NOX</th>\n",
       "      <th>RM</th>\n",
       "      <th>AGE</th>\n",
       "      <th>DIS</th>\n",
       "      <th>RAD</th>\n",
       "      <th>TAX</th>\n",
       "      <th>PTRATIO</th>\n",
       "      <th>B</th>\n",
       "      <th>LSTAT</th>\n",
       "      <th>MEDV</th>\n",
       "    </tr>\n",
       "  </thead>\n",
       "  <tbody>\n",
       "    <tr>\n",
       "      <td>0</td>\n",
       "      <td>0.00632</td>\n",
       "      <td>18.0</td>\n",
       "      <td>2.31</td>\n",
       "      <td>0.0</td>\n",
       "      <td>0.538</td>\n",
       "      <td>6.575</td>\n",
       "      <td>65.2</td>\n",
       "      <td>4.0900</td>\n",
       "      <td>1.0</td>\n",
       "      <td>296.0</td>\n",
       "      <td>15.3</td>\n",
       "      <td>396.90</td>\n",
       "      <td>4.98</td>\n",
       "      <td>24.0</td>\n",
       "    </tr>\n",
       "    <tr>\n",
       "      <td>1</td>\n",
       "      <td>0.02731</td>\n",
       "      <td>0.0</td>\n",
       "      <td>7.07</td>\n",
       "      <td>0.0</td>\n",
       "      <td>0.469</td>\n",
       "      <td>6.421</td>\n",
       "      <td>78.9</td>\n",
       "      <td>4.9671</td>\n",
       "      <td>2.0</td>\n",
       "      <td>242.0</td>\n",
       "      <td>17.8</td>\n",
       "      <td>396.90</td>\n",
       "      <td>9.14</td>\n",
       "      <td>21.6</td>\n",
       "    </tr>\n",
       "    <tr>\n",
       "      <td>2</td>\n",
       "      <td>0.02729</td>\n",
       "      <td>0.0</td>\n",
       "      <td>7.07</td>\n",
       "      <td>0.0</td>\n",
       "      <td>0.469</td>\n",
       "      <td>7.185</td>\n",
       "      <td>61.1</td>\n",
       "      <td>4.9671</td>\n",
       "      <td>2.0</td>\n",
       "      <td>242.0</td>\n",
       "      <td>17.8</td>\n",
       "      <td>392.83</td>\n",
       "      <td>4.03</td>\n",
       "      <td>34.7</td>\n",
       "    </tr>\n",
       "    <tr>\n",
       "      <td>3</td>\n",
       "      <td>0.03237</td>\n",
       "      <td>0.0</td>\n",
       "      <td>2.18</td>\n",
       "      <td>0.0</td>\n",
       "      <td>0.458</td>\n",
       "      <td>6.998</td>\n",
       "      <td>45.8</td>\n",
       "      <td>6.0622</td>\n",
       "      <td>3.0</td>\n",
       "      <td>222.0</td>\n",
       "      <td>18.7</td>\n",
       "      <td>394.63</td>\n",
       "      <td>2.94</td>\n",
       "      <td>33.4</td>\n",
       "    </tr>\n",
       "    <tr>\n",
       "      <td>4</td>\n",
       "      <td>0.06905</td>\n",
       "      <td>0.0</td>\n",
       "      <td>2.18</td>\n",
       "      <td>0.0</td>\n",
       "      <td>0.458</td>\n",
       "      <td>7.147</td>\n",
       "      <td>54.2</td>\n",
       "      <td>6.0622</td>\n",
       "      <td>3.0</td>\n",
       "      <td>222.0</td>\n",
       "      <td>18.7</td>\n",
       "      <td>396.90</td>\n",
       "      <td>5.33</td>\n",
       "      <td>36.2</td>\n",
       "    </tr>\n",
       "  </tbody>\n",
       "</table>\n",
       "</div>"
      ],
      "text/plain": [
       "      CRIM    ZN  INDUS  CHAS    NOX     RM   AGE     DIS  RAD    TAX  \\\n",
       "0  0.00632  18.0   2.31   0.0  0.538  6.575  65.2  4.0900  1.0  296.0   \n",
       "1  0.02731   0.0   7.07   0.0  0.469  6.421  78.9  4.9671  2.0  242.0   \n",
       "2  0.02729   0.0   7.07   0.0  0.469  7.185  61.1  4.9671  2.0  242.0   \n",
       "3  0.03237   0.0   2.18   0.0  0.458  6.998  45.8  6.0622  3.0  222.0   \n",
       "4  0.06905   0.0   2.18   0.0  0.458  7.147  54.2  6.0622  3.0  222.0   \n",
       "\n",
       "   PTRATIO       B  LSTAT  MEDV  \n",
       "0     15.3  396.90   4.98  24.0  \n",
       "1     17.8  396.90   9.14  21.6  \n",
       "2     17.8  392.83   4.03  34.7  \n",
       "3     18.7  394.63   2.94  33.4  \n",
       "4     18.7  396.90   5.33  36.2  "
      ]
     },
     "execution_count": 90,
     "metadata": {},
     "output_type": "execute_result"
    }
   ],
   "source": [
    "from sklearn.linear_model import LinearRegression\n",
    "from sklearn.model_selection import train_test_split\n",
    "from sklearn.datasets import load_boston\n",
    "import pandas as pd\n",
    "\n",
    "boston=load_boston()\n",
    "print('Type(boston):' ,type(boston))\n",
    "X,y=boston.data, boston.target\n",
    "print(type(X),type(y))\n",
    "print(X.size,y.size)\n",
    "df = pd.DataFrame(np.concatenate([X,y.reshape(-1,1)],axis=1),\n",
    "                 columns=boston.feature_names.tolist()+['MEDV'])\n",
    "print(load_boston().DESCR)\n",
    "df.head()\n",
    "\n",
    "# df.size"
   ]
  },
  {
   "cell_type": "markdown",
   "metadata": {},
   "source": [
    "CRIM：城镇犯罪率\n",
    "\n",
    "ZN：后院占地面积超过2.5万平方呎的住宅用地比例\n",
    "\n",
    "INDUS：每个城镇的非零售商业用地的比例\n",
    "\n",
    "CHAS：（= 1靠近;否则为0）是否靠近查尔斯河\n",
    "\n",
    "NOX：一氧化氮浓度（10万份）硝酸盐浓度\n",
    "\n",
    "RM：每个住宅的平均房间数\n",
    "\n",
    "AGE：1940年以前建成的自住单位的比例\n",
    "\n",
    "DIS：距离第五波士顿就业中心加权距离\n",
    "\n",
    "RAD：径向高速公路的可达性指数\n",
    "\n",
    "税收：每10,000美元的全值物业税率\n",
    "\n",
    "PTRATIO：城镇的学生与教师比例\n",
    "\n",
    "B：1000（Bk - 0.63）^ 2 城镇的黑人比例\n",
    "\n",
    "LSTAT：下层经济阶层百分比\n",
    "\n",
    "MEDV：1000美元的自住房屋的中位数\n"
   ]
  },
  {
   "cell_type": "code",
   "execution_count": 49,
   "metadata": {},
   "outputs": [
    {
     "name": "stdout",
     "output_type": "stream",
     "text": [
      "模型权重   : [-1.18e-01  4.40e-02 -5.77e-03  2.39e+00 -1.56e+01  3.77e+00 -7.04e-03\n",
      " -1.43e+00  2.40e-01 -1.13e-02 -9.86e-01  8.44e-03 -4.99e-01]\n",
      "截 距     : 36.933255457118975\n",
      "训练接R^2 : 0.7697699488741149\n",
      "测试集R^2 : 0.6354638433202128\n"
     ]
    }
   ],
   "source": [
    "X_train, X_test , y_train, y_test =train_test_split(X,y,test_size=0.25,random_state=0)\n",
    "lr = LinearRegression()\n",
    "lr.fit(X_train,y_train)\n",
    "print('模型权重   :',lr.coef_)\n",
    "print('截 距     :',lr.intercept_)\n",
    "y_hat =lr.predict(X_test)\n",
    "print('训练接R^2 :',lr.score(X_train,y_train))\n",
    "print('测试集R^2 :',lr.score(X_test ,y_test))"
   ]
  },
  {
   "cell_type": "code",
   "execution_count": 79,
   "metadata": {},
   "outputs": [
    {
     "data": {
      "text/plain": [
       "127"
      ]
     },
     "execution_count": 79,
     "metadata": {},
     "output_type": "execute_result"
    }
   ],
   "source": [
    "X_train.size # 4927\n",
    "y_train.size #379\n",
    "X_test.size # 1651\n",
    "y_test.size #127\n"
   ]
  },
  {
   "cell_type": "code",
   "execution_count": 99,
   "metadata": {},
   "outputs": [
    {
     "data": {
      "image/png": "[encoded data removed]",
      "text/plain": [
       "<Figure size 432x288 with 1 Axes>"
      ]
     },
     "metadata": {
      "needs_background": "light"
     },
     "output_type": "display_data"
    }
   ],
   "source": [
    "plt.scatter(df['CRIM'], y,10)\n",
    "plt.title('城镇人均犯罪率与房价散点图')\n",
    "plt.xlabel('城镇人均犯罪率')\n",
    "plt.ylabel('房价')\n",
    "plt.show()"
   ]
  },
  {
   "cell_type": "code",
   "execution_count": 98,
   "metadata": {},
   "outputs": [
    {
     "data": {
      "image/png": "[encoded data removed]",
      "text/plain": [
       "<Figure size 432x288 with 1 Axes>"
      ]
     },
     "metadata": {
      "needs_background": "light"
     },
     "output_type": "display_data"
    }
   ],
   "source": [
    "plt.scatter(df['B'], y)\n",
    "plt.title('城镇的黑人比例与房价散点图')\n",
    "plt.xlabel('城镇的黑人比例')\n",
    "plt.ylabel('房价')\n",
    "plt.show()"
   ]
  },
  {
   "cell_type": "code",
   "execution_count": 101,
   "metadata": {},
   "outputs": [
    {
     "data": {
      "image/png": "[encoded data removed]",
      "text/plain": [
       "<Figure size 432x288 with 1 Axes>"
      ]
     },
     "metadata": {
      "needs_background": "light"
     },
     "output_type": "display_data"
    }
   ],
   "source": [
    "plt.scatter(df['DIS'], y)\n",
    "plt.title('距离第五波士顿就业中心加权距离与房价散点图')\n",
    "plt.xlabel('距离第五波士顿就业中心加权距离')\n",
    "plt.ylabel('房价')\n",
    "plt.show()"
   ]
  },
  {
   "cell_type": "markdown",
   "metadata": {},
   "source": [
    "以上就是描述性统计方法涉及的代码部分, 相关概念笔记见'`描述性统计分析概念汇总.MD `'"
   ]
  },
  {
   "cell_type": "code",
   "execution_count": null,
   "metadata": {},
   "outputs": [],
   "source": []
  }
 ],
 "metadata": {
  "kernelspec": {
   "display_name": "Python 3",
   "language": "python",
   "name": "python3"
  },
  "language_info": {
   "codemirror_mode": {
    "name": "ipython",
    "version": 3
   },
   "file_extension": ".py",
   "mimetype": "text/x-python",
   "name": "python",
   "nbconvert_exporter": "python",
   "pygments_lexer": "ipython3",
   "version": "3.7.4"
  },
  "toc": {
   "base_numbering": 1,
   "nav_menu": {},
   "number_sections": true,
   "sideBar": true,
   "skip_h1_title": false,
   "title_cell": "Table of Contents",
   "title_sidebar": "Contents",
   "toc_cell": false,
   "toc_position": {},
   "toc_section_display": true,
   "toc_window_display": false
  }
 },
 "nbformat": 4,
 "nbformat_minor": 2
}
